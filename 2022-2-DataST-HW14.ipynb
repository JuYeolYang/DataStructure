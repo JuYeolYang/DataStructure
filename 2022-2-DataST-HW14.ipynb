{
  "cells": [
    {
      "cell_type": "markdown",
      "metadata": {
        "id": "Gag1en13KazR"
      },
      "source": [
        "# 11.5\n",
        "아래에 코드셀을 만들고, 셀에 인접행렬로 표현된 그래프를 인자로 받아 Maximal Spanning Tree를 구하는 하는 함수 maxSpanningTree(...) 를 정의하시오. 함수는 visit 되는 407 페이지에 있는 그림처럼 추가되는 간선을 (x, y, weight) 형태로 출력할 것. "
      ]
    },
    {
      "cell_type": "code",
      "execution_count": 1,
      "metadata": {
        "id": "2e4TtdBCbvJS"
      },
      "outputs": [],
      "source": [
        "'''\n",
        "parent  : 각 정점의 id값을 저장한다. 여기서 순환 그래프를 만들지 않기 위해 각 id값은 방향 그래프 기준으로 저장되어 있다\n",
        "          즉 A(1)이면 B를 가리키고 있다는 뜻이다. 방향성이 존재하는 이유는 각 집합의 대표번호를 하나로 통일하기 위해서이다.\n",
        "set_size: 총 집합의 개수를 의미한다\n",
        "\n",
        "init_set: 정점을 -1로 초기화 한다\n",
        "find    : 정점 id가 속한 집합에 대표 번호를 반환한다. 예를 들어 B(3) <-> D(4) <->E(-1)이면 정점 B의 대표 번호는 4이다.\n",
        "          이 함수로 한 정점이 어느 정점하고 연결되어 있는지 알 수 있다\n",
        "union   : 두 집합을 병합 시킨다. 위에 예를 추가하여 설명하면 EF간선을 추가한다고하면 E(5) <-> F(-1) 이런 식으로 합쳐진다\n",
        "          병합한 후에 set_size를 하나 줄인다\n",
        "\n",
        "###### maxSpanningTree ######\n",
        "모든 간선을 리스트에 넣은 다음 가중치를 기준으로 내림차순으로 정렬한다\n",
        "pop() 메소드를 이용하여 두 정점의 대표번호를 비교하고 같으면 간선을 추가하지 않고 같지 않으면 간선을 추가한다\n",
        "'''\n",
        "parent = []\n",
        "set_size = 0\n",
        "\n",
        "def init_set(nSets):  # 집합의 초기화 함수\n",
        "  global set_size, parent # 전역변수 사용을 위함\n",
        "  set_size = nSets  # 집합의 개수\n",
        "  for i in range(nSets):  # 모든 집합에 대해 각각이 고유의 집합(부모가 -1)\n",
        "    parent.append(-1)\n",
        "\n",
        "def find(id): # 정점 id가 속한 집합의 대표번호 탐색\n",
        "  while(parent[id] >= 0): # 부모가 있는 동안(-1이 아닌 동안)\n",
        "    id = parent[id] # id를 부모 id로 갱신\n",
        "  return id # 최종 id 반환. 트리의 맨 위 노드의 id임\n",
        "\n",
        "def union(s1, s2):  # 두 집합을 병합(s1을 s2에 병합시킴)\n",
        "  global set_size # 전역변수 사용을 위함\n",
        "  parent[s1] = s2 # s1을 s2에 병합시킴\n",
        "  set_size = set_size - 1 # 집합의 개수가 줄어 듦\n",
        "\n",
        "def maxSpanningTree(graph):\n",
        "  vertex = graph[0]\n",
        "  adj = graph[1]\n",
        "  vsize = len(vertex) # 정점의 개수\n",
        "  init_set(vsize)   # 정점 집합 초기화\n",
        "  eList = []    # 간선 리스트\n",
        "\n",
        "  for i in range(vsize-1):  # 모든 간선을 리스트에 넣음\n",
        "    for j in range(i+1, vsize): \n",
        "      if adj[i][j] != None:\n",
        "        eList.append((i, j, adj[i][j])) # 튜플로 저장\n",
        "\n",
        "  eList.sort(key = lambda e : e[2])\n",
        "\n",
        "  edgeAccepted = 0\n",
        "  while(edgeAccepted < vsize - 1):  # 정점 수 -1개의 간선\n",
        "    e = eList.pop(-1) # 가장 작은 가중치를 가진 간선\n",
        "    uset = find(e[0]) # 두 정점이 속한 집합 번호\n",
        "    vset = find(e[1]) \n",
        "\n",
        "    if uset != vset:  # 두 정점이 다른 집합의 원소이면\n",
        "      print(\"간선 추가: ({}, {}, {})\".format(vertex[e[0]], vertex[e[1]], e[2])) # 간선 추가 출력\n",
        "      union(uset, vset) # 두 집합을 합함\n",
        "      edgeAccepted += 1 # 간선이 하나 추가됨"
      ]
    },
    {
      "cell_type": "markdown",
      "metadata": {
        "id": "MVWKAmz-wecI"
      },
      "source": [
        "아래 코드셀은 11.5 을 테스트 하는 코드이다. 주어진 데이터를 이용하여 테스트를 실행하시오. "
      ]
    },
    {
      "cell_type": "code",
      "execution_count": 2,
      "metadata": {
        "colab": {
          "base_uri": "https://localhost:8080/",
          "height": 0
        },
        "id": "VMw3QptJo0wo",
        "outputId": "23db2b6b-d5ad-4f4b-dcfc-16fd8fbad973"
      },
      "outputs": [
        {
          "name": "stdout",
          "output_type": "stream",
          "text": [
            "간선 추가: (A, B, 29)\n",
            "간선 추가: (E, F, 27)\n",
            "간선 추가: (E, G, 25)\n",
            "간선 추가: (D, E, 22)\n",
            "간선 추가: (B, C, 16)\n",
            "간선 추가: (B, G, 15)\n"
          ]
        }
      ],
      "source": [
        "# 교재 407 페이지 \n",
        "vertex =   ['A',    'B',    'C',    'D',    'E',    'F',    'G' ]\n",
        "weight = [ [None,\t29,\t\tNone,\tNone,\tNone,   10,\t\tNone],\n",
        "           [29,\tNone,\t16,\t\tNone,\tNone,\tNone,\t15  ],\n",
        "           [None,\t16,\t\tNone,\t12,\t\tNone,\tNone,\tNone],\n",
        "           [None,\tNone,   12,\t\tNone,\t22,\t\tNone,\t18  ],\n",
        "           [None,\tNone,\tNone,   22,\t\tNone,\t27,\t\t25  ],\n",
        "           [10,\tNone,\tNone,\tNone,   27,\t\tNone,\tNone],\n",
        "           [None,  15,\t\tNone,   18,\t\t25,\t\tNone,\tNone]]  \n",
        "\n",
        "graph = (vertex, weight)\n",
        "\n",
        "maxSpanningTree(graph)"
      ]
    },
    {
      "cell_type": "markdown",
      "metadata": {
        "id": "Kb9RvSQfrEui"
      },
      "source": [
        "# 11.6\n",
        "아래에 코드셀을 만들고, 문제 11.6 의 솔루션을 제공하는 함수 dijkstra_SP_with_path_print(...)을 작성하시오. 교재 428 문제 11.6에 보이는 바와 같이 출력하도록 작성하시오. "
      ]
    },
    {
      "cell_type": "code",
      "execution_count": 9,
      "metadata": {
        "id": "ljWmmigyeLB3"
      },
      "outputs": [],
      "source": [
        "'''\n",
        "INF: dijkstra알고리즘을 수행하기 전에는 간선이 존재하지 않는다는 의미이고 그 이후에는 연결할 수 없다는 의미이다.\n",
        "\n",
        "          choose_vertex    : 정점 중에 가중치가 가장 낮은 정점의 위치를 반환하는 함수이다.\n",
        "dijkstra_SP_with_path_print: shortest_path_dijkstra함수를 통해서 얻은 각 정점까지의 가중치와 경로를 출력하는 함수이다\n",
        "###### shortest_path_dijkstra ######\n",
        "\n",
        "가장 짧은 경로를 반환하는 함수이다.\n",
        "dijkstra 알고리즘의 핵심은 나와 연결된 정점들 중에 한 정점으로 가야 더 빨리 갈 수 있다는 것을 알 수 있다.\n",
        "예를 들어서 E가 연결된 정점들이 C, D, F라고 하면 C를 통해서 갈 경우 가중치가 10, D는 12, F는 9라고 하면,\n",
        "F를 통해 어느 정점을 거쳐갈 지는 모르지만, 분명한 것은 F 정점으로 가야지 가장 가중치가 적다는 것을 알 수 있다.\n",
        "그렇게 각 정점은 A로 갈 때 어느 정점으로 가야 최소 가중치를 가질지의 정보를 가지고 있다.\n",
        "\n",
        "dist : A에서 한 정점으로 갈 때까지 쌓인 가중치를 저장하고 있다.\n",
        "path : 각 정점에서 A로 갈 때 바로 앞의 정점의 정보를 저장하고 있다. ex) path[1] = 2이면 1번은 2번의 정점으로 가야지 가장 빠르다(최소 가중치이다)라는 것을 의미한다\n",
        "found: 지나간 정점은 True, 지나가지 않은 정점은 False라고 한다 \n",
        "'''\n",
        "INF = 999\n",
        "\n",
        "def choose_vertex(dist, found): # 최소 dist 정점을 찾는 함수\n",
        "  min = INF\n",
        "  minpos = -1\n",
        "  for i in range(len(dist)):  # 모든 정점 중에서\n",
        "    if dist[i] < min and found[i] == False: # 방문하지 않은 최소 dist 정점\n",
        "      min = dist[i]\n",
        "      minpos = i\n",
        "  return minpos # 최소 dist 장점의 인덱스 반환\n",
        "\n",
        "def shortest_path_dijkstra(vtx, adj, start):\n",
        "  vsize = len(vtx)  # 정점 수\n",
        "  # 각 정점까지의 가중치를 의미한다. 자기 자신은 0이고 999는 연결되지 않았다(혹은 연결할 수 없다)는 의미이다.\n",
        "  dist = list(adj[start]) # dist 배열 생성 및 초기화\n",
        "  # 한 정점에서 다른 정점으로 이동할 때 이동한 경로를 저장\n",
        "  path = [start] * vsize  # path 배열 생성 및 초기화\n",
        "  found = [False] * vsize # found 배열 생성 및 초기화\n",
        "  found[start] = True # 시작정점: 이미 찾아짐\n",
        "  dist[start] = 0 # 시작정점의 거리 0\n",
        "  \n",
        "  for i in range(vsize): \n",
        "    # 최소 정점 순서대로 정점들의 가중치를 갱신한다\n",
        "    u = choose_vertex(dist, found)  # 최소 dist 정점 u 탐색\n",
        "    found[u] = True # u는 이제 찾아짐\n",
        "\n",
        "    for w in range(vsize):  # 모든 정점에 대해\n",
        "      if not found[w]:  # 아직 찾아지지 않았으면\n",
        "        if dist[u] + adj[u][w] < dist[w]: # 갱신 조건 검사\n",
        "          dist[w] = dist[u] + adj[u][w] # dist 갱신\n",
        "          path[w] = u # 이전 정점 갱신\n",
        "  \n",
        "  return path # 찾아진 최단 경로 반환\n",
        "\n",
        "def dijkstra_SP_with_path_print(start, graph):\n",
        "  path = shortest_path_dijkstra(graph[0], graph[1], start)  # 시작 정점은 0번 'A'로 선택\n",
        "  list_path = list()  # 정점이 지나온 길을 역순으로 저장한다.\n",
        "  dist = 0  # 시점에서 종점까지 가중치를 모두 더한 값이다\n",
        "  print(\"Src->Dst\\tDist\\tPath\")\n",
        "  for end in range(len(vertex)):\n",
        "    if end != start:\n",
        "      print(\"  {}->{}\\t\\t\".format(start, end), end='')  # 시점과 종점 위치 출력\n",
        "      list_path.append(end)\n",
        "      while(path[end] != start):\n",
        "        list_path.append(path[end])\n",
        "        dist += weight[end][path[end]]\n",
        "        end = path[end]\n",
        "      list_path.append(path[end]) # 지나온 정점 저장\n",
        "      dist += weight[end][path[end]]  # 지아온 정점의 가중치를 합한다\n",
        "      print(dist, \"\\t\", end=\"\") # 지나온 길의 총 가중치 합 출력\n",
        "\n",
        "      for v in range(len(list_path)):\n",
        "        print(\"{} \".format(list_path.pop()), end=\"\")  # 지나쳐온 정점 순서대로 출력\n",
        "      print()\n",
        "      list_path.clear() # 지나온 길 초기화\n",
        "      dist = 0  # 가중치 합 초기화\n"
      ]
    },
    {
      "cell_type": "markdown",
      "metadata": {
        "id": "xRaT52vSrUT7"
      },
      "source": [
        "아래 코드셀은 11.6 을 테스트 하는 코드이다. 주어진 데이터를 이용하여 테스트를 실행하시오."
      ]
    },
    {
      "cell_type": "code",
      "execution_count": 10,
      "metadata": {
        "colab": {
          "base_uri": "https://localhost:8080/",
          "height": 0
        },
        "id": "EOLxleLIrZZe",
        "outputId": "c49a9c90-54a6-474c-9d74-4cf431d147f7"
      },
      "outputs": [
        {
          "name": "stdout",
          "output_type": "stream",
          "text": [
            "Src->Dst\tDist\tPath\n",
            "  0->1\t\t5 \t0 4 1 \n",
            "  0->2\t\t9 \t0 4 1 2 \n",
            "  0->3\t\t11 \t0 4 1 2 3 \n",
            "  0->4\t\t3 \t0 4 \n",
            "  0->5\t\t10 \t0 5 \n",
            "  0->6\t\t8 \t0 4 6 \n"
          ]
        }
      ],
      "source": [
        "vertex =   ['A',    'B',    'C',    'D',    'E',    'F',    'G' \t]\n",
        "weight = [ [0,\t    7,\t\tINF,\t\tINF,\t\t3,      10,\t\tINF\t],\n",
        "           [7,\t\t0,\t    4,\t\t10,\t    2,\t    6,\t    INF\t],\n",
        "           [INF,\t4,\t\t0,\t\t2,\t\tINF,\t\tINF,\t\tINF\t],\n",
        "           [INF,\t10,\t\t2,\t\t0,      11,\t\t9,\t\t4   ],\n",
        "           [3,\t    2,\t    INF,   \t11,\t\t0,      13,\t\t5   ],\n",
        "           [10,\t6,\t    INF,\t\t9,      13,\t\t0,\t\tINF\t],\n",
        "           [INF,   INF,\t\tINF,   \t4,\t\t5,\t\tINF,\t\t0   ] ]   \n",
        "\n",
        "graph = (vertex, weight)\n",
        "start = 0\n",
        "dijkstra_SP_with_path_print(start, graph) # modified 12.06"
      ]
    }
  ],
  "metadata": {
    "colab": {
      "provenance": []
    },
    "kernelspec": {
      "display_name": "Python 3",
      "name": "python3"
    },
    "language_info": {
      "name": "python"
    }
  },
  "nbformat": 4,
  "nbformat_minor": 0
}
