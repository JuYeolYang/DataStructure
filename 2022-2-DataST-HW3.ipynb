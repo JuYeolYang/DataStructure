{
  "cells": [
    {
      "cell_type": "markdown",
      "metadata": {
        "id": "Gag1en13KazR"
      },
      "source": [
        "## 3.3 \n",
        "코드 셀을 아래에 만들고, 셀에 3.6 절의 필요 코드 부분을 참조하여 작성. "
      ]
    },
    {
      "cell_type": "code",
      "execution_count": null,
      "metadata": {
        "id": "1aDn05KXVJGZ"
      },
      "outputs": [],
      "source": [
        "class Set:\n",
        "  def __init__(self):\n",
        "    self.items = []\n",
        "  def size(self):\n",
        "    return len(self.items)\n",
        "  def display(self, msg):\n",
        "    print(msg, self.items)\n",
        "  def contains(self, item):\n",
        "    return item in self.items\n",
        "  def insert(self, elem):\n",
        "    if elem not in self.items:\n",
        "      self.items.append(elem)\n",
        "  def delete(self, elem):\n",
        "    if elem in self.items:\n",
        "      self.items.remove(elem)\n",
        "  def union(self, setB):\n",
        "    setC = Set()\n",
        "    setC.items = list(self.items)\n",
        "    for elem in setB.items:\n",
        "      if elem not in self.items:\n",
        "        setC.items.append(elem)\n",
        "    return setC\n",
        "  def intersect(self, setB):\n",
        "    setC = Set()\n",
        "    for elem in setB.items:\n",
        "      if elem in self.items:\n",
        "        setC.items.append(elem)\n",
        "    return setC\n",
        "  def difference(self, setB):\n",
        "    setC = Set()\n",
        "    for elem in self.items:\n",
        "      if elem not in setB.items:\n",
        "        setC.items.append(elem)\n",
        "    return setC"
      ]
    },
    {
      "cell_type": "markdown",
      "metadata": {
        "id": "iUu61Ca5Kpdz"
      },
      "source": [
        "코드 셀을 아래에 만들고,셀에 P3.3 (1) 에 해당 하는 부분을 작성하시오.  "
      ]
    },
    {
      "cell_type": "code",
      "execution_count": null,
      "metadata": {
        "id": "LLJk_87wW7Ex"
      },
      "outputs": [],
      "source": [
        "class Set_1(Set):\n",
        "  def contains(self, item):\n",
        "    for i in range(len(self.items)):\n",
        "      if self.items[i] == item:\n",
        "        return True\n",
        "    return False"
      ]
    },
    {
      "cell_type": "markdown",
      "metadata": {
        "id": "MPF9N1VNKyYb"
      },
      "source": [
        "코드 셀을 아래에 만들고, P3.3 (1) 에 해당 하는 부분을 테스트하는 코드를 실행하시오. "
      ]
    },
    {
      "cell_type": "code",
      "execution_count": null,
      "metadata": {
        "colab": {
          "base_uri": "https://localhost:8080/"
        },
        "id": "jOo2D5m8blnv",
        "outputId": "0d342ed8-ffec-4aa1-dadb-82279d4ffbac"
      },
      "outputs": [
        {
          "name": "stdout",
          "output_type": "stream",
          "text": [
            "True False\n"
          ]
        }
      ],
      "source": [
        "test_list = Set_1()\n",
        "for n in range(1, 10):\n",
        "  test_list.insert(n)\n",
        "print(test_list.contains(9), test_list.contains(10))"
      ]
    },
    {
      "cell_type": "markdown",
      "metadata": {
        "id": "wr55ZiMrK726"
      },
      "source": [
        "코드 셀을 아래에 만들고, 셀에 P3.3 (2) 에 해당 하는 부분을 작성하시오."
      ]
    },
    {
      "cell_type": "code",
      "execution_count": null,
      "metadata": {
        "id": "GtxND9vVcRYZ"
      },
      "outputs": [],
      "source": [
        "class Set_2(Set):\n",
        "  def delete(self, elem):\n",
        "    for i in range(len(self.items)):\n",
        "      if self.items[i] == elem:\n",
        "        del self.items[i]\n",
        "        break"
      ]
    },
    {
      "cell_type": "markdown",
      "metadata": {
        "id": "fr33RZs5LFDa"
      },
      "source": [
        "코드 셀을 아래에 만들고, P3.3 (2) 에 해당 하는 부분을 테스트하는 코드를 실행하시오."
      ]
    },
    {
      "cell_type": "code",
      "execution_count": null,
      "metadata": {
        "colab": {
          "base_uri": "https://localhost:8080/"
        },
        "id": "cErN0f93cuT0",
        "outputId": "5f34b439-8d17-4239-ea89-7a8e7e940af5"
      },
      "outputs": [
        {
          "name": "stdout",
          "output_type": "stream",
          "text": [
            "Set test_set: [1, 3, 4, 5, 6, 7, 8, 9]\n"
          ]
        }
      ],
      "source": [
        "test_set = Set_2()\n",
        "for n in range(1, 10):\n",
        "  test_set.insert(n)\n",
        "test_set.delete(2)\n",
        "test_set.display(\"Set test_set:\")"
      ]
    },
    {
      "cell_type": "markdown",
      "metadata": {
        "id": "pK_MjoTdLDVM"
      },
      "source": [
        "코드 셀을 아래에 만들고, 셀에 P3.3 (3) 에 해당 하는 부분을 작성하시오."
      ]
    },
    {
      "cell_type": "code",
      "execution_count": null,
      "metadata": {
        "id": "SqUQqaROgRdS"
      },
      "outputs": [],
      "source": [
        "class Set_3(Set):\n",
        "  def insert(self, elem):\n",
        "    if not self.contains(elem):\n",
        "      self.items.append(elem)\n",
        "  def union(self, setB):\n",
        "    setC = Set_3()\n",
        "    setC.items = list(self.items)\n",
        "    for b in range(len(setB.items)):\n",
        "      if not self.contains(setB.items[b]):\n",
        "        setC.items.append(setB.items[b])\n",
        "    return setC\n",
        "  def intersect(self, setB):\n",
        "    setC = Set_3()\n",
        "    for b in range(len(setB.items)):\n",
        "      if self.contains(setB.items[b]):\n",
        "        setC.items.append(setB.items[b])\n",
        "    return setC\n",
        "  def difference(self, setB):\n",
        "    setC = Set_3()\n",
        "    for i in range(len(self.items)):\n",
        "      if not setB.contains(self.items[i]):\n",
        "        setC.items.append(self.items[i])\n",
        "    return setC"
      ]
    },
    {
      "cell_type": "markdown",
      "metadata": {
        "id": "qPAnfl9MLSkd"
      },
      "source": [
        "코드 셀을 아래에 만들고, 셀에 P3.3 (3) 에 해당 하는 부분을 테스트하는 코드를 실행하시오. 교재 115, 116 페이지에 있는 입력을 이용하시오. \n",
        "\n"
      ]
    },
    {
      "cell_type": "code",
      "execution_count": null,
      "metadata": {
        "colab": {
          "base_uri": "https://localhost:8080/"
        },
        "id": "zhRedanpmYcL",
        "outputId": "afdf116f-3ee1-4135-ccf4-c0925e91ca4f"
      },
      "outputs": [
        {
          "name": "stdout",
          "output_type": "stream",
          "text": [
            "Set A: ['휴대폰', '지갑', '손수건']\n",
            "Set B: ['빗', '파이썬 자료구조', '야구공', '지갑']\n",
            "Set A: ['휴대폰', '지갑']\n",
            "Set B: ['빗', '파이썬 자료구조', '야구공', '지갑']\n",
            "A U B: ['휴대폰', '지갑', '빗', '파이썬 자료구조', '야구공']\n",
            "A ^ B: ['지갑']\n",
            "A - B: ['휴대폰']\n"
          ]
        }
      ],
      "source": [
        "setA = Set_3()\n",
        "setA.insert('휴대폰')\n",
        "setA.insert('지갑')\n",
        "setA.insert('손수건')\n",
        "setA.display('Set A:')\n",
        "\n",
        "setB = Set_3()\n",
        "setB.insert('빗')\n",
        "setB.insert('파이썬 자료구조')\n",
        "setB.insert('야구공')\n",
        "setB.insert('지갑')\n",
        "setB.display('Set B:')\n",
        "\n",
        "setB.insert('빗')\n",
        "setA.delete('손수건')\n",
        "setA.delete('발수건')\n",
        "setA.display('Set A:')\n",
        "setB.display('Set B:')\n",
        "\n",
        "setA.union(setB).display('A U B:')\n",
        "setA.intersect(setB).display('A ^ B:')\n",
        "setA.difference(setB).display('A - B:')"
      ]
    },
    {
      "cell_type": "markdown",
      "metadata": {
        "id": "t7Fu7Zd0Lcz_"
      },
      "source": [
        "코드 셀을 아래에 만들고, 셀에 P3.3 (4) 에 해당 하는 부분을 작성하시오."
      ]
    },
    {
      "cell_type": "code",
      "execution_count": null,
      "metadata": {
        "id": "fm3srnR0qVIZ"
      },
      "outputs": [],
      "source": [
        "class Set_4(Set):\n",
        "  def __sub__(self, setB):\n",
        "    setC = Set_3()\n",
        "    for i in range(len(self.items)):\n",
        "      if not setB.contains(self.items[i]):\n",
        "        setC.items.append(self.items[i])\n",
        "    return setC"
      ]
    },
    {
      "cell_type": "markdown",
      "metadata": {
        "id": "c2OXA9YlLjWj"
      },
      "source": [
        "코드 셀을 아래에 만들고, 셀에 P3.3\n",
        " (4) 에 해당 하는 부분을 테스트하는 코드를 실행하시오. 교재 115, 116 페이지에 있는 입력을 이용하시오. "
      ]
    },
    {
      "cell_type": "code",
      "execution_count": null,
      "metadata": {
        "colab": {
          "base_uri": "https://localhost:8080/"
        },
        "id": "_sUlcD5uqxyo",
        "outputId": "b170699e-7b51-4db8-e0f8-b630f4a4563f"
      },
      "outputs": [
        {
          "name": "stdout",
          "output_type": "stream",
          "text": [
            "Set A: ['휴대폰', '지갑', '손수건']\n",
            "Set B: ['빗', '파이썬 자료구조', '야구공', '지갑']\n",
            "Set A: ['휴대폰', '지갑']\n",
            "Set B: ['빗', '파이썬 자료구조', '야구공', '지갑']\n",
            "A U B: ['휴대폰', '지갑', '빗', '파이썬 자료구조', '야구공']\n",
            "A ^ B: ['지갑']\n",
            "A - B: ['휴대폰']\n",
            "Set C: ['휴대폰']\n",
            "Set C: ['휴대폰']\n"
          ]
        }
      ],
      "source": [
        "setA = Set_4()\n",
        "setA.insert('휴대폰')\n",
        "setA.insert('지갑')\n",
        "setA.insert('손수건')\n",
        "setA.display('Set A:')\n",
        "\n",
        "setB = Set_4()\n",
        "setB.insert('빗')\n",
        "setB.insert('파이썬 자료구조')\n",
        "setB.insert('야구공')\n",
        "setB.insert('지갑')\n",
        "setB.display('Set B:')\n",
        "\n",
        "setB.insert('빗')\n",
        "setA.delete('손수건')\n",
        "setA.delete('발수건')\n",
        "setA.display('Set A:')\n",
        "setB.display('Set B:')\n",
        "\n",
        "setA.union(setB).display('A U B:')\n",
        "setA.intersect(setB).display('A ^ B:')\n",
        "setA.difference(setB).display('A - B:')\n",
        "\n",
        "setC = setA.difference(setB)\n",
        "setC.display(\"Set C:\")\n",
        "setC = setA - setB\n",
        "setC.display(\"Set C:\")"
      ]
    },
    {
      "cell_type": "markdown",
      "metadata": {
        "id": "V2FBR4y3L2Wg"
      },
      "source": [
        "##3.4 (5점) - 코드가 미완성 또는 오류인 경우, 테스트가 지시에 따라 완성되지 않은 경우 0 점 처리 \n",
        "코드 셀을 아래에 만들고, 셀에 주어진 정의 3.3에 따라서 클래스를 작성하시오. "
      ]
    },
    {
      "cell_type": "markdown",
      "metadata": {
        "id": "qqRP9VnVMPzp"
      },
      "source": [
        "# 테스트 "
      ]
    },
    {
      "cell_type": "markdown",
      "metadata": {
        "id": "2WGktVlfMGwn"
      },
      "source": [
        "1. 작성된 클래스를 이용하여 두 개의 5차 다항식을 다음과 같이 만드시오. 주어진 리스트는 최대 차수부터 내림차수으로 계수(coefficient)를 표현한 것이며, 프로그램에 맞게 조정하여 입력할 것. \n",
        "- f1 = [10, 0, 0, 0, 6, 3]\n",
        "- f2 = [20, 10, 10, 10, 10, 20]\n",
        "\n",
        "아래에 코드셀을 만들고, 실행하시오. "
      ]
    },
    {
      "cell_type": "code",
      "execution_count": 1,
      "metadata": {
        "colab": {
          "base_uri": "https://localhost:8080/"
        },
        "id": "2FQ0gYUDEvTL",
        "outputId": "a7a9a868-651d-4fb8-9ef3-fff226072aac"
      },
      "outputs": [
        {
          "name": "stdout",
          "output_type": "stream",
          "text": [
            "f1(x) = 10 x^5 + 0 x^4 + 0 x^3 + 0 x^2 + 6 x^1 + 3\n",
            "f2(x) = 20 x^5 + 10 x^4 + 10 x^3 + 10 x^2 + 10 x^1 + 20\n"
          ]
        }
      ],
      "source": [
        "class Polynomial:\n",
        "  def __init__(self):\n",
        "    self.poly = list()\n",
        "  def degree(self):\n",
        "    return len(self.poly) - 1\n",
        "  def evaluate(self, scalar):\n",
        "    sum = 0\n",
        "    for i in range(len(self.poly)):\n",
        "      sum += self.poly[i] * (scalar ** i)\n",
        "    return sum\n",
        "  def add(self, rhs):\n",
        "    add_poly = Polynomial()\n",
        "    if len(rhs.poly) > len(self.poly):\n",
        "      add_poly.poly = rhs.poly\n",
        "      for i in range(len(self.poly)):\n",
        "        add_poly.poly[i] += self.poly[i]\n",
        "    else:\n",
        "      add_poly.poly = self.poly\n",
        "      for i in range(len(rhs.poly)):\n",
        "        add_poly.poly[i] += rhs.poly[i]\n",
        "    return add_poly\n",
        "  def subtract(self, rhs):\n",
        "    sub_poly = Polynomial()\n",
        "    if len(rhs.poly) > len(self.poly):\n",
        "      sub_poly.poly = rhs.poly\n",
        "      for i in range(len(self.poly)):\n",
        "        sub_poly.poly[i] -= self.poly[i]\n",
        "    else:\n",
        "      sub_poly.poly = self.poly\n",
        "      for i in range(len(rhs.poly)):\n",
        "        sub_poly.poly[i] -= rhs.poly[i]\n",
        "    return sub_poly\n",
        "  def multiply(self, rhs):\n",
        "    mul_poly = Polynomial()\n",
        "    mul_poly.poly = [0 for x in range(len(rhs.poly) + len(self.poly) - 1)]\n",
        "    for r in range(len(rhs.poly)):\n",
        "      for p in range(len(self.poly)):\n",
        "        mul_poly.poly[r + p] += rhs.poly[r] * self.poly[p]\n",
        "    return mul_poly\n",
        "  def display(self, msg):\n",
        "    print(msg, end='')\n",
        "    for p in range(len(self.poly) - 1, 0, -1):\n",
        "      print(\"{} x^{} + \".format(self.poly[p], p),end='')\n",
        "    print(self.poly[0])\n",
        "\n",
        "def insert_poly(rhs):\n",
        "  f = Polynomial()\n",
        "  for r in rhs:\n",
        "    f.poly.insert(0,r)\n",
        "  return f\n",
        "\n",
        "f1 = insert_poly([10, 0, 0 ,0, 6, 3])\n",
        "f2 = insert_poly([20, 10, 10, 10, 10, 20])\n",
        "\n",
        "f1.display(\"f1(x) = \")\n",
        "f2.display(\"f2(x) = \")"
      ]
    },
    {
      "cell_type": "markdown",
      "metadata": {
        "id": "X5MXoqBnOxws"
      },
      "source": [
        "2. 위에서 만들어진 두 개의 다항식에 대하여 degree method 를 테스트 하는 코드를 아래 셀에 만들고 수행하시오. "
      ]
    },
    {
      "cell_type": "code",
      "execution_count": null,
      "metadata": {
        "colab": {
          "base_uri": "https://localhost:8080/"
        },
        "id": "5eJ2y69pSLG7",
        "outputId": "e37a3df5-5ac9-4ba7-af24-443336d25973"
      },
      "outputs": [
        {
          "name": "stdout",
          "output_type": "stream",
          "text": [
            "5\n",
            "5\n"
          ]
        }
      ],
      "source": [
        "print(f1.degree())\n",
        "print(f2.degree())"
      ]
    },
    {
      "cell_type": "markdown",
      "metadata": {
        "id": "RtIjQ_60PA4U"
      },
      "source": [
        "3. 위에서 만들어진 두 개의 다항식에 대하여 evaluate method 를 테스트 하는 코드를 아래 셀에 만들고 수행하시오. "
      ]
    },
    {
      "cell_type": "code",
      "execution_count": null,
      "metadata": {
        "colab": {
          "base_uri": "https://localhost:8080/"
        },
        "id": "lqifkW1eW1Tn",
        "outputId": "3b5eda8f-980b-4113-e2f1-3c42aa69deeb"
      },
      "outputs": [
        {
          "name": "stdout",
          "output_type": "stream",
          "text": [
            "f1(1) = 19\n",
            "f1(4) = 10267\n"
          ]
        }
      ],
      "source": [
        "print(\"f1(1) =\",f1.evaluate(1))\n",
        "print(\"f1(4) =\",f1.evaluate(4))"
      ]
    },
    {
      "cell_type": "markdown",
      "metadata": {
        "id": "Zik1RNwFPE_7"
      },
      "source": [
        "3. 위에서 만들어진 두 개의 다항식을 add method 를 사용하여 f1 + f2 계산을 수행하는 테스트 하는 코드를 아래 셀에 만들고 수행하시오.결과는 Polynomial 객체이어야 하며, display method를 통해 결과를 가시화 하시오. "
      ]
    },
    {
      "cell_type": "code",
      "execution_count": null,
      "metadata": {
        "colab": {
          "base_uri": "https://localhost:8080/"
        },
        "id": "JPLrWHS2Xs-r",
        "outputId": "0e8db73b-5103-403d-95c3-07ae01e2c1d5"
      },
      "outputs": [
        {
          "name": "stdout",
          "output_type": "stream",
          "text": [
            "f3(x) = 30 x^5 + 10 x^4 + 10 x^3 + 10 x^2 + 16 x^1 + 23\n"
          ]
        }
      ],
      "source": [
        "f3 = f1.add(f2)\n",
        "f3.display(\"f3(x) = \")"
      ]
    },
    {
      "cell_type": "markdown",
      "metadata": {
        "id": "fPil_fEMPi4k"
      },
      "source": [
        "4.  위에서 만들어진 두 개의 다항식을 subtract method 를 사용하여 f1 - f2 계산을 수행하는 테스트 하는 코드를 아래 셀에 만들고 수행하시오.결과는 Polynomial 객체이어야 하며, display method를 통해 결과를 가시화 하시오. "
      ]
    },
    {
      "cell_type": "code",
      "execution_count": 2,
      "metadata": {
        "colab": {
          "base_uri": "https://localhost:8080/"
        },
        "id": "RU6OcoSdYEEC",
        "outputId": "b2bf975d-7299-4ec0-e3f3-6bd448130ede"
      },
      "outputs": [
        {
          "name": "stdout",
          "output_type": "stream",
          "text": [
            "f3(x) = -10 x^5 + -10 x^4 + -10 x^3 + -10 x^2 + -4 x^1 + -17\n"
          ]
        }
      ],
      "source": [
        "f3 = f1.subtract(f2)\n",
        "f3.display(\"f3(x) = \")"
      ]
    },
    {
      "cell_type": "markdown",
      "metadata": {
        "id": "aNPQPukYPyt-"
      },
      "source": [
        "5. 위에서 만들어진 두 개의 다항식을 multiply method 를 사용하여 f1 * f2 계산을 수행하는 테스트 하는 코드를 아래 셀에 만들고 수행하시오.결과는 Polynomial 객체이어야 하며, display method를 통해 결과를 가시화 하시오. "
      ]
    },
    {
      "cell_type": "code",
      "execution_count": null,
      "metadata": {
        "colab": {
          "base_uri": "https://localhost:8080/"
        },
        "id": "hAF-tCtLYV40",
        "outputId": "4b014d23-0197-4185-abeb-4db498bd7bae"
      },
      "outputs": [
        {
          "name": "stdout",
          "output_type": "stream",
          "text": [
            "f3(x) = 200 x^10 + 100 x^9 + 100 x^8 + 100 x^7 + 220 x^6 + 320 x^5 + 90 x^4 + 90 x^3 + 90 x^2 + 150 x^1 + 60\n"
          ]
        }
      ],
      "source": [
        "f3 = f1.multiply(f2)\n",
        "f3.display(\"f3(x) = \")"
      ]
    }
  ],
  "metadata": {
    "colab": {
      "collapsed_sections": [],
      "provenance": []
    },
    "kernelspec": {
      "display_name": "Python 3",
      "name": "python3"
    },
    "language_info": {
      "name": "python"
    }
  },
  "nbformat": 4,
  "nbformat_minor": 0
}
