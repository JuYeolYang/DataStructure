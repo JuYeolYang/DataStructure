{
  "cells": [
    {
      "cell_type": "markdown",
      "metadata": {
        "id": "Gag1en13KazR"
      },
      "source": [
        "## 5.3 \n",
        "\n",
        "아래에 코드셀을 만들고, 셀에 함수 myFibonacci 을 작성. "
      ]
    },
    {
      "cell_type": "code",
      "execution_count": 5,
      "metadata": {
        "id": "oROlP7qhJS-u"
      },
      "outputs": [],
      "source": [
        "'''\n",
        "Queue: 큐 Class\n",
        "isEmpty: 큐가 비어있는지 확인한다. 비어있으면 True, 비어있지 않으면 False를 출력한다\n",
        "enqueue: front에 값을 저장한다.\n",
        "dequeue: front값을 반환하고 삭제한다\n",
        "peek: front값을 반환한다\n",
        "size: 큐의 크기를 반환한다. 즉, 큐에 저장되어 있는 요소의 개수를 반환한다.\n",
        "clear: 큐를 비운다.\n",
        "'''\n",
        "class Queue:\n",
        "  def __init__(self):\n",
        "    self.__queue = list()\n",
        "  def isEmpty(self):\n",
        "    return len(self.__queue) == 0\n",
        "  def enqueue(self, item):\n",
        "    self.__queue.append(item)\n",
        "  def dequeue(self):\n",
        "    if self.isEmpty():\n",
        "      print(\"Queue is Empty\")\n",
        "    else:\n",
        "      item = self.__queue[0]\n",
        "      del self.__queue[0]\n",
        "      return item\n",
        "  def peek(self):\n",
        "    if self.isEmpty():\n",
        "      print(\"Queue is Empty\")\n",
        "    else:\n",
        "      return self.__queue[0]\n",
        "  def size(self):\n",
        "    return len(self.__queue)\n",
        "  def clear(self):\n",
        "    self.__queue.clear()\n",
        "'''\n",
        "myFibonacci(number): number수 까지의 피보나치값을 구하는 함수이다.\n",
        "1. Queue 객체를 생성한다.\n",
        "2. 그 객체에 0값을 저장한다.\n",
        "3. number수 까지 더해야 하므로 for문을 사용해서 1부터 number까지 순서대로 i를 생성한다.\n",
        "4. op = queue.dequeue()를 하여 op값과 i값을 더한 값을 Queue 객체에 저장한다.\n",
        "5. for문을 모두 끝난 후에 Queue 객체의 front값을 반환한다.\n",
        "\n",
        "'''\n",
        "def myFibonacci(number:int):\n",
        "  queue = Queue()\n",
        "  queue.enqueue(0)\n",
        "  for i in range(1, number + 1):\n",
        "    op = queue.dequeue()\n",
        "    queue.enqueue(op + i)\n",
        "  return queue.peek()"
      ]
    },
    {
      "cell_type": "markdown",
      "metadata": {
        "id": "MPF9N1VNKyYb"
      },
      "source": [
        "아래에 코드셀을 만들고, myFibonacci 함수를 호출하여,   myFibonacci(10)의 결과를 출력하시오. "
      ]
    },
    {
      "cell_type": "code",
      "execution_count": 6,
      "metadata": {
        "colab": {
          "base_uri": "https://localhost:8080/"
        },
        "id": "Mcfs5mlLHl40",
        "outputId": "4d1eeabd-d0ff-4f42-f803-167b828ddb30"
      },
      "outputs": [
        {
          "name": "stdout",
          "output_type": "stream",
          "text": [
            "55\n"
          ]
        }
      ],
      "source": [
        "result = myFibonacci(10)\n",
        "print(result)"
      ]
    },
    {
      "cell_type": "markdown",
      "metadata": {
        "id": "KVDXivqYWgD6"
      },
      "source": [
        "#5.4\n"
      ]
    },
    {
      "cell_type": "markdown",
      "metadata": {
        "id": "l_jlkOyfYCeT"
      },
      "source": [
        "\n",
        "아래에 코드셀을 만들고, 셀에 5.4 에서 요구된 사항을 반영하여 checkPalindromeByDeque 를 구현하시오. \n",
        "\n"
      ]
    },
    {
      "cell_type": "code",
      "execution_count": 7,
      "metadata": {
        "id": "9eGbmJ31JCEo"
      },
      "outputs": [],
      "source": [
        "'''\n",
        "Deque: 덱 Class\n",
        "isEmpty: 덱이 비어있는지 확인한다. 비어있으면 True, 아니면 False를 반환한다\n",
        "addFront: front에 값을 저장한다.\n",
        "deleteFront: front 값을 반환하고 삭제한다.\n",
        "getFront: front 값을 반환한다\n",
        "addRear: Rear에 값을 저장한다\n",
        "deleteRear: Rear값을 반환하고 삭제한다\n",
        "getRear: Rear값을 반환한다\n",
        "isFull: Deque객체가 가득 찼는지 확인한다. 덱은 100까지를 저장할 수 있다.\n",
        "size: Deque의 크기를 반환한다. 즉, 요소가 몇개 있는지 반환한다.\n",
        "clear: Deque를 비운다.\n",
        "'''\n",
        "class Deque:\n",
        "  def __init__(self):\n",
        "    self.__deque = list()\n",
        "  def isEmpty(self):\n",
        "    return len(self.__deque) == 0\n",
        "  def addFront(self, item):\n",
        "    if self.isFull():\n",
        "      print(\"Deque is Full\")\n",
        "    else:\n",
        "      self.__deque.insert(0, item)\n",
        "  def deleteFront(self):\n",
        "    if self.isEmpty():\n",
        "      print(\"Deque is Empty\")\n",
        "    else:\n",
        "      item = self.__deque[0]\n",
        "      del self.__deque[0]\n",
        "      return item\n",
        "  def getFront(self):\n",
        "    if self.isEmpty():\n",
        "      print(\"Deque is Empty\")\n",
        "    else:\n",
        "      return self.__deque[0]\n",
        "  def addRear(self, item):\n",
        "    if self.isFull():\n",
        "      print(\"Deque is Full\")\n",
        "    else:\n",
        "      self.__deque.append(item)\n",
        "  def deleteRear(self):\n",
        "    if self.isEmpty():\n",
        "      print(\"Deque is Empty\")\n",
        "    else:\n",
        "      item = self.__deque[-1]\n",
        "      del self.__deque[-1]\n",
        "      return item\n",
        "  def getRear(self):\n",
        "    if self.isEmpty():\n",
        "      print(\"Deque is Empty\")\n",
        "    else:\n",
        "      return self.__deque[-1]\n",
        "  def isFull(self):\n",
        "    return self.size() >= 100\n",
        "  def size(self):\n",
        "    return len(self.__deque)\n",
        "  def clear(self):\n",
        "    self.__queue.clear()\n",
        "'''\n",
        "checkPalindromeByDeque(pal): 회문인지 아닌지 검사하는 함수\n",
        "1. Deque 객체를 생성한다.\n",
        "2. 매개변수로 주어진 pal 문자열에서 ' , .과 빈칸을 제외한 문자를 Deque객체에 저장한다. 순서대로 저장해야 하므로 addRear()을 사용한다.\n",
        "3. Deque객체의 크기가 1보다 클 때 까지 front값과 rear값이 같은지 비교하고 같으면 반복하고 아니면 \"회문이 아닙니다.\"를 출력하고 함수를 종료한다.\n",
        "4. while문을 빠져나왔다는 것은 회문이라는 말이므로 \"회문입니다.\"출력한다.\n",
        "'''\n",
        "def checkPalindromeByDeque(pal:str):\n",
        "  deque = Deque()\n",
        "  for p in pal:\n",
        "    if p not in \"',. \":\n",
        "      p = p.lower()\n",
        "      deque.addRear(p)\n",
        "  while deque.size() > 1:\n",
        "    front_op = deque.deleteFront()\n",
        "    rear_op = deque.deleteRear()\n",
        "    if front_op != rear_op:\n",
        "      print(\"회문이 아닙니다.\")\n",
        "      return\n",
        "  print(\"회문입니다.\")"
      ]
    },
    {
      "cell_type": "markdown",
      "metadata": {
        "id": "VZE7QAUdYY2k"
      },
      "source": [
        "테스트: 아래에 코드셀을 만들고, 위에서 작성된 checkPalindromeByDeque 를 **다음** 입력에 대하여 테스트하시오.\n",
        "- \"madam, I'm Adam', 'race car'"
      ]
    },
    {
      "cell_type": "code",
      "execution_count": 8,
      "metadata": {
        "colab": {
          "base_uri": "https://localhost:8080/"
        },
        "id": "T3NJ1CP-Z1IO",
        "outputId": "1e541354-a8ab-412b-e516-de9765dcd35c"
      },
      "outputs": [
        {
          "name": "stdout",
          "output_type": "stream",
          "text": [
            "회문입니다.\n",
            "회문입니다.\n"
          ]
        }
      ],
      "source": [
        "test_list = [\"madam, I'm Adam\", \"race car\"]\n",
        "for test in test_list:\n",
        "  checkPalindromeByDeque(test)"
      ]
    }
  ],
  "metadata": {
    "colab": {
      "collapsed_sections": [],
      "provenance": []
    },
    "kernelspec": {
      "display_name": "Python 3",
      "name": "python3"
    },
    "language_info": {
      "name": "python"
    }
  },
  "nbformat": 4,
  "nbformat_minor": 0
}
