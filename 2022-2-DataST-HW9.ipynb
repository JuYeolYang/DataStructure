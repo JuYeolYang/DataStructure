{
  "cells": [
    {
      "cell_type": "markdown",
      "metadata": {
        "id": "Gag1en13KazR"
      },
      "source": [
        "아래 코드셀을 만들고, 클래스 OrderedListSet 을 구현하시오. 메소드 union 과 difference 메소드가 포함되어야 함. 각 메소드 5점. "
      ]
    },
    {
      "cell_type": "code",
      "execution_count": 28,
      "metadata": {
        "id": "BkrrTF4XOw4L"
      },
      "outputs": [],
      "source": [
        "'''\n",
        "OrderedListSet: 오름차순으로 정렬된 집합\n",
        "      \n",
        "      size: 집합의 크기 반환\n",
        "   display: 집합 요소들 출력\n",
        "  contains: 매개변수 값이 집합에 포함되어 있는지 확인. 있느면 True 없으면 False출력\n",
        "     union: 매개변수 집합과 합집합한 결과를 반환. 집합은 요소의 크기 순으로 정렬됨\n",
        " intersect: 매개변수 집합과 교집합한 결과를 반환. 집합은 요소의 크기 순으로 정렬됨\n",
        "difference: 매개변수 집합과 차집합한 결과를 반환. 집합은 요소의 크기 순으로 정렬됨\n",
        "    insert: 집합에 요소를 추가한다. 요소는 크기 순으로 들어간다\n",
        "    delete: 집합에 매개변수로 받은 요소를 삭제한다\n",
        "    __eq__: 매개변수 집합과 같은지 비교하여 같으면 True, 다르면 False를 반환\n",
        "\n",
        "union\n",
        "1. OrderedListSet객체인 SetC를 생성하고 현 객체의 items와 같게 한다\n",
        "2. 매개변수로 입력받은 집합과 다른 요소가 있으면 SetC에 OrderedListSet의 메소드인 insert를 사용하여 추가한다\n",
        "   OrderedListSet의 insert메소드는 기본적으로 크기 순으로 요소를 추가하기 때문에 따로 크기를 비료하여 추가할 필요가 없다\n",
        "3. 요소를 모두 추가하였으면 SetC 객체를 반환한다\n",
        "\n",
        "difference\n",
        "1. OrderedListSet객체인 SetC를 생성한다\n",
        "2. 매개변수로 받은 집합과 현 집합의 교집합을 현 집합에서 뺀다.\n",
        "   현 집합은 정렬되어 있기 때문에 SetC에 요소를 바로 넣어도 된다\n",
        "3. 요소를 모두 추가하였으면 SetC 객체를 반환한다\n",
        "'''\n",
        "class OrderedListSet:\n",
        "  def __init__(self):\n",
        "    self.items = []\n",
        "  def size(self):\n",
        "    return len(self.items)\n",
        "  def display(self, msg):\n",
        "    print(msg, self.items)\n",
        "  def contains(self, item):\n",
        "    return item in self.items\n",
        "  def union(self, setB):\n",
        "    setC = OrderedListSet() #객체 생성\n",
        "    setC.items = list(self.items) #SetC.items = self.items\n",
        "    for elem in setB.items:\n",
        "      if elem not in self.items:\n",
        "        setC.insert(elem)   #삽입과 정렬을 동시에 할 수 있다\n",
        "    return setC\n",
        "  def intersect(self, setB):\n",
        "    setC = OrderedListSet() #객체 생성\n",
        "    for elem in setB.items:\n",
        "      if elem in self.items:\n",
        "        setC.items.append(elem)\n",
        "    return setC\n",
        "  def difference(self, setB):\n",
        "    setC = OrderedListSet() #객체 생성\n",
        "    for elem in self.items:\n",
        "      if elem not in setB.items:\n",
        "        setC.items.append(elem)\n",
        "    return setC\n",
        "  def insert(self, elem): #삽입과 정렬을 동시에 진행\n",
        "    if elem in self.items : return\n",
        "    for idx in range(len(self.items)):\n",
        "      if elem < self.items[idx]:\n",
        "        self.items.insert(idx, elem)\n",
        "        return\n",
        "    self.items.append(elem)\n",
        "  def delete(self, elem): # 집합에서 요소 삭제\n",
        "    if elem in self.items:\n",
        "      self.items.remove(elem)\n",
        "  def __eq__(self, setB): # 다른 집합과 같은지 비교\n",
        "    if self.size() != setB.size():\n",
        "      return False\n",
        "    for idx in range(len(self.items)):\n",
        "      if self.items[idx] != setB.items[idx]:\n",
        "        return False\n",
        "    return True"
      ]
    },
    {
      "cell_type": "markdown",
      "metadata": {
        "id": "jOYIHQslsd0A"
      },
      "source": [
        "아래의 코드를 이용하여 테스트를 수행하시오. "
      ]
    },
    {
      "cell_type": "code",
      "execution_count": 29,
      "metadata": {
        "colab": {
          "base_uri": "https://localhost:8080/",
          "height": 0
        },
        "id": "HFyp2IcEsi4c",
        "outputId": "9342b504-c393-4a08-837f-568709f4e4ea"
      },
      "outputs": [
        {
          "name": "stdout",
          "output_type": "stream",
          "text": [
            "Set A: ['손수건', '지갑', '휴대폰']\n",
            "Set B: ['빗', '야구공', '지갑', '파이썬 자료구조']\n",
            "Set A: ['지갑', '휴대폰']\n",
            "Set B: ['빗', '야구공', '지갑', '파이썬 자료구조']\n",
            "A U B: ['빗', '야구공', '지갑', '파이썬 자료구조', '휴대폰']\n",
            "A ^ B: ['지갑']\n",
            "A – B: ['휴대폰']\n"
          ]
        }
      ],
      "source": [
        "setA = OrderedListSet()\n",
        "setA.insert('휴대폰')\n",
        "setA.insert('지갑')\n",
        "setA.insert('손수건')\n",
        "setA.display('Set A:')\n",
        "\n",
        "setB = OrderedListSet()\n",
        "setB.insert('빗')\n",
        "setB.insert('파이썬 자료구조')\n",
        "setB.insert('야구공')\n",
        "setB.insert('지갑')\n",
        "setB.display('Set B:')\n",
        "\n",
        "setB.insert('빗')\n",
        "setA.delete('손수건')\n",
        "setA.delete('발수건')\n",
        "setA.display('Set A:')\n",
        "setB.display('Set B:')\n",
        "\n",
        "setA.union(setB).display('A U B:')\n",
        "setA.intersect(setB).display('A ^ B:')\n",
        "setA.difference(setB).display('A – B:')"
      ]
    },
    {
      "cell_type": "markdown",
      "metadata": {
        "id": "Bci_r8Ic6nnM"
      },
      "source": [
        "아래 셀에 P7.5 클래스 BinarySearchMap_7_5 을 구현하시오. 엔트리는 교재 257 페이지에 나와 있는 Entry 클래스를 사용하시오."
      ]
    },
    {
      "cell_type": "code",
      "execution_count": 30,
      "metadata": {
        "id": "o1GRwu-Y8CIc"
      },
      "outputs": [],
      "source": [
        "'''\n",
        "Entry: key에 대응하는 value를 가진 객체이다. dictionary와 비슷한 역할을 한다\n",
        "'''\n",
        "class Entry:\n",
        "  def __init__(self, key, value):\n",
        "    self.key = key\n",
        "    self.value = value\n",
        "  def __str__(self):\n",
        "    return str(\"%s %s\"%(self.key, self.value))\n",
        "'''\n",
        "BinarySearchMap_7_5\n",
        "\n",
        "    size: table의 Entry 객체 총 개수를 반환\n",
        " display: table안 Entry 객체의 키값과 그에 대응하는 값을 출력\n",
        "  insert: table에 Entry 객체 삽입\n",
        "  search: 매개변수로 입력받은 key값이 있는지 확인. 있으면 위치값을 반환하고 없으면 None 반환\n",
        "  delete: 매개변수로 입력받은 key값을 삭제\n",
        "\n",
        "insert\n",
        "1. 동일한 key값이 있으면 table에 추가하지 않는다\n",
        "2. 동일한 key값이 없으면 table에 추가한다.\n",
        "   추가할 때 0번째 부터 순차적으로 key값을 비교하면 O(n)의 시간이 들기 때문에 이진탐색을 이용하여 Entry객체를 삽입한다\n",
        "\n",
        "search\n",
        "insert에서 이미 정렬된 상태이기 때문에 바로 이진탐색을 이용하여 객체를 찾을 수 있다.\n",
        "'''\n",
        "class BinarySearchMap_7_5:\n",
        "  def __init__(self):\n",
        "    self.table = [] #Entry객체를 저장한다\n",
        "\n",
        "  def size(self): return len(self.table)\n",
        "\n",
        "  def display(self, msg):\n",
        "    print(msg)\n",
        "    for entry in self.table:\n",
        "      print(\" \", entry)\n",
        "\n",
        "  def insert(self, key, value):\n",
        "    if self.search(key) == key:\n",
        "      print(\"동일한 key가 있습니다\")\n",
        "      return\n",
        "    low = 0               # table의 0번째\n",
        "    high = self.size() - 1# table의 마지막번째\n",
        "    while(low <= high):   # low == middle == high일 때 내부를 수행하면 high < low가 된다\n",
        "      middle = (low + high) // 2  # 중앙값\n",
        "      if key > self.table[middle].key: #key값이 중앙 key보다 클때\n",
        "        low = middle + 1\n",
        "      elif key < self.table[middle].key:  #key값이 중앙 key보다 작을 때\n",
        "        high = middle - 1\n",
        "\n",
        "    if high == -1:  #key값이 table의 Entry의 key값 중 가작 작을 때\n",
        "      self.table.insert(0, Entry(key, value))\n",
        "    else:\n",
        "      if low == middle: #key값이 self.table[middle].key보다 작을 때\n",
        "        self.table.insert(middle, Entry(key, value))\n",
        "      else: #key값이 self.table[middle].key보다 클 때\n",
        "        self.table.insert(middle + 1, Entry(key, value))\n",
        "  \n",
        "  def search(self, key):\n",
        "    low = 0 # table의 0번째\n",
        "    high = self.size() - 1  # table의 마지막번째\n",
        "    while(low <= high):\n",
        "      middle = (low + high) // 2\n",
        "      if key == self.table[middle].key:\n",
        "        return middle\n",
        "      elif key > self.table[middle].key:\n",
        "        low = middle + 1\n",
        "      else:\n",
        "        high = middle - 1\n",
        "    return None # table에 원하는 값이 없을 때\n",
        "  \n",
        "  def delete(self, key):\n",
        "    pos = self.search(key)  # search메소드를 통해 key값의 위치를 반환받는다\n",
        "    if pos is not None:\n",
        "      del self.table[pos]\n",
        "    else:\n",
        "      print(\"단어장에 %s가 없습니다\"%key)\n",
        "    "
      ]
    },
    {
      "cell_type": "markdown",
      "metadata": {
        "id": "ewdO_0Gf8MTC"
      },
      "source": [
        "다음의 코드를 이용하여 BinarySearchMap_7_5 를 테스트 하시오. "
      ]
    },
    {
      "cell_type": "code",
      "execution_count": 31,
      "metadata": {
        "colab": {
          "base_uri": "https://localhost:8080/",
          "height": 0
        },
        "id": "HoR6TbPr938q",
        "outputId": "5251fc62-b5b4-46e5-924d-878ef34d4b38"
      },
      "outputs": [
        {
          "name": "stdout",
          "output_type": "stream",
          "text": [
            "단어장 내용: \n",
            "  binary search 이진 탐색 2202\n",
            "  data 자료 2202\n",
            "  game 게임 2202\n",
            "  sequential search 선형 탐색 2202\n",
            "  structure 구조 2202\n",
            "탐색:game -->  2\n",
            "탐색:over -->  None\n",
            "탐색:data -->  1\n",
            "단어장에 nogame가 없습니다\n",
            "단어장 내용: \n",
            "  binary search 이진 탐색 2202\n",
            "  data 자료 2202\n",
            "  sequential search 선형 탐색 2202\n",
            "  structure 구조 2202\n"
          ]
        }
      ],
      "source": [
        "map = BinarySearchMap_7_5()\t\t\t\t\t\t\n",
        "map.insert('data', '자료 2202')\t\t\t\t\t\n",
        "map.insert('structure', '구조 2202')\n",
        "map.insert('sequential search', '선형 탐색 2202')\n",
        "map.insert('game', '게임 2202')\n",
        "map.insert('binary search', '이진 탐색 2202')\t\n",
        "map.display(\"단어장 내용: \")\t\t\t\n",
        "\n",
        "print(\"탐색:game --> \", map.search('game'))\t\n",
        "print(\"탐색:over --> \", map.search('over'))\n",
        "print(\"탐색:data --> \", map.search('data'))\n",
        "\n",
        "map.delete('game')\t\t\t\n",
        "map.delete('nogame')\t\t\t\n",
        "map.display(\"단어장 내용: \")"
      ]
    },
    {
      "cell_type": "markdown",
      "metadata": {
        "id": "YHgh1e2Z-W7g"
      },
      "source": [
        "아래 셀에 P7.6 클래스 LinearProvingHM_7_6 을 구현하시오. 삽입과 삭제 연산 시, 충돌 과정과 처리 과정이 자세하게 출력되어야 함. \n",
        "- # 맵 생성 시, 초기 해시 크기를 인자값으로 받음.\n",
        "- hash function: h(k) = k mod 11"
      ]
    },
    {
      "cell_type": "code",
      "execution_count": 32,
      "metadata": {
        "id": "YH_A7jUcAiAy"
      },
      "outputs": [],
      "source": [
        "'''\n",
        "LinearProvingHM_7_6\n",
        "\n",
        "          hashFn: key의 단어 하나 하나의 아스키코드값을 모두 더한 값을 self.M으로 나눈 나머지를 반환\n",
        "         display: table안 Entry 객체의 키값과 그에 대응하는 값을 출력\n",
        "find_empty_space: table이 비어있는 공간이 있으면 True, 아니면 False를 반환\n",
        "         inseret: 매개변수로 입력받은 key, value를 Entyr객체를 생성하여 table에 추가한다. 만약 table이 가득 찼으면 추가하지 않는다\n",
        "          search: 매개변수로 입력받은 key값으로 table에 동일한 key값이 있는지 찾는다. 있으면 위치값을 반환하고 없으면 None을 반환한다\n",
        "          delete: 매개변수로 입력받은 key값과 동일한 Entry 객체를 삭제한다.\n",
        "\n",
        "insert\n",
        "1. hashFn메소드를 통해 key값의 해쉬값을 받는다\n",
        "2. table추가할 수 있는지 확인하고 가능하면 추가하고 아니면 추가하지 않는다\n",
        "3. 만약 추가해야할 위치에 이미 객체가 있다면 다음 위치로 이동한다. 비어있는 공간이 있을 때까지 이동하여 저장한다.\n",
        "   만약 이동하다 table의 마지막까지 도달하였으면 0번째로 이동하여 빈공간을 찾는다.\n",
        "\n",
        "search\n",
        "1. hashFn메소드를 통해 key값의 해쉬값을 받는다\n",
        "2. 만약 해쉬값 위치에 있는 key값이 다르면 다음 위치로 이동한다. 동일한 key값이 있는 곳 까지 이동하여 찾는다\n",
        "   만약 이동하다 table의 마지막까지 도달하였으면 0번째로 이동하여 동일한 key값의 객체를 찾는다.\n",
        "3. 찾았으면 그 위치를 반환하고 key값이 없으면 None을 반환한다\n",
        "\n",
        "delete\n",
        "key값이 있으면 그 위치를 None으로 처리하고 없으면 오류구문을 출력한다\n",
        "'''\n",
        "class LinearProvingHM_7_6:\n",
        "  def __init__(self, M:int):\n",
        "    self.table = [None]*M \n",
        "    self.M = M  # 해쉬 크기\n",
        "  \n",
        "  def hashFn(self, key):  # 해쉬값 반환\n",
        "    sum = 0\n",
        "    for c in key:\n",
        "      sum += ord(c)\n",
        "    return sum % self.M\n",
        "  \n",
        "  def display(self, msg):\n",
        "    print(msg)\n",
        "    for entry in self.table:\n",
        "      print(\" \", entry)\n",
        "\n",
        "  def find_empty_space(self): # table에 빈공간이 있는지 확인\n",
        "    for key in self.table:\n",
        "      if key is None:\n",
        "        return True\n",
        "    return False\n",
        "  \n",
        "  def insert(self, key, value): # table에 삽입\n",
        "    idx = self.hashFn(key)  #해쉬값을 받아온다\n",
        "    empty_space= self.find_empty_space()  # 빈 공간이 있는지 확인\n",
        "    while empty_space:\n",
        "      if self.table[idx] is None:\n",
        "        self.table[idx] = Entry(key, value)\n",
        "        print(\"{}: store table[{}]\".format(key, idx))\n",
        "        break\n",
        "      else: #idx위치의 공간이 비어있지 않을 때\n",
        "        print(\"{}: move table[{}] -> table[{}]\".format(key, idx, (idx + 1) % self.M))\n",
        "        idx = (idx + 1) % self.M\n",
        "\n",
        "  def search(self, key):  #key값과 동일한 Entry객체 위치 반환\n",
        "    idx = self.hashFn(key)\n",
        "    initial_idx = idx # 초기 idx값\n",
        "    while True:\n",
        "      if self.table[idx] == None:\n",
        "        idx = (idx + 1) % self.M\n",
        "        if initial_idx == idx:  # table에 있는 모든 Entry객체를 비교함\n",
        "          break\n",
        "        continue\n",
        "      else:\n",
        "        if self.table[idx].key == key:  # 원하는 객체를 찾음\n",
        "          return idx\n",
        "        else: #원하는 객체를 찾지 못함\n",
        "          idx = (idx + 1) % self.M\n",
        "          if initial_idx == idx:  # table에 있는 모든 Entry객체를 비교함\n",
        "            break\n",
        "    return None\n",
        "  \n",
        "  def delete(self, key):\n",
        "    idx = self.search(key)  #해쉬값을 받아온다\n",
        "    if idx is None:\n",
        "      print(\"key:%s이 없습니다\"%key)\n",
        "    else:\n",
        "      self.table[idx] = None\n",
        "      \n"
      ]
    },
    {
      "cell_type": "markdown",
      "metadata": {
        "id": "7L322VXsAiew"
      },
      "source": [
        "다음의 코드를 이용하여 LinearProvingHM_7_6을 테스트 하시오. "
      ]
    },
    {
      "cell_type": "code",
      "execution_count": 33,
      "metadata": {
        "colab": {
          "base_uri": "https://localhost:8080/",
          "height": 0
        },
        "id": "xQmFW19pBoaV",
        "outputId": "33d8a8ec-0c0d-46b8-948f-aa0651347cde"
      },
      "outputs": [
        {
          "name": "stdout",
          "output_type": "stream",
          "text": [
            "12: store table[0]\n",
            "44: store table[5]\n",
            "13: store table[1]\n",
            "88: store table[2]\n",
            "23: move table[2] -> table[3]\n",
            "23: store table[3]\n",
            "94: store table[10]\n",
            "11: move table[10] -> table[0]\n",
            "11: move table[0] -> table[1]\n",
            "11: move table[1] -> table[2]\n",
            "11: move table[2] -> table[3]\n",
            "11: move table[3] -> table[4]\n",
            "11: store table[4]\n",
            "39: store table[9]\n",
            "20: move table[10] -> table[0]\n",
            "20: move table[0] -> table[1]\n",
            "20: move table[1] -> table[2]\n",
            "20: move table[2] -> table[3]\n",
            "20: move table[3] -> table[4]\n",
            "20: move table[4] -> table[5]\n",
            "20: move table[5] -> table[6]\n",
            "20: store table[6]\n",
            "16: move table[4] -> table[5]\n",
            "16: move table[5] -> table[6]\n",
            "16: move table[6] -> table[7]\n",
            "16: store table[7]\n",
            "05: move table[2] -> table[3]\n",
            "05: move table[3] -> table[4]\n",
            "05: move table[4] -> table[5]\n",
            "05: move table[5] -> table[6]\n",
            "05: move table[6] -> table[7]\n",
            "05: move table[7] -> table[8]\n",
            "05: store table[8]\n",
            "단어장 내용: \n",
            "  12 data12\n",
            "  13 data13\n",
            "  88 data88\n",
            "  23 data23\n",
            "  11 data11\n",
            "  44 data44\n",
            "  20 data20\n",
            "  16 data16\n",
            "  05 data05\n",
            "  39 data39\n",
            "  94 data94\n",
            "탐색:game -->  3\n",
            "탐색:over -->  6\n",
            "탐색:data -->  None\n",
            "단어장 내용: \n",
            "  12 data12\n",
            "  13 data13\n",
            "  88 data88\n",
            "  None\n",
            "  11 data11\n",
            "  44 data44\n",
            "  None\n",
            "  16 data16\n",
            "  05 data05\n",
            "  39 data39\n",
            "  94 data94\n"
          ]
        }
      ],
      "source": [
        "LPHMmap = LinearProvingHM_7_6(11)\t\t\t\t\t\n",
        "LPHMmap.insert('12', 'data12')\t\t\t\t\t\n",
        "LPHMmap.insert('44', 'data44')\n",
        "LPHMmap.insert('13', 'data13')\n",
        "LPHMmap.insert('88', 'data88')\n",
        "LPHMmap.insert('23', 'data23')\n",
        "LPHMmap.insert('94', 'data94')\t\t\t\t\t\n",
        "LPHMmap.insert('11', 'data11')\n",
        "LPHMmap.insert('39', 'data39')\n",
        "LPHMmap.insert('20', 'data20')\n",
        "LPHMmap.insert('16', 'data16')\t\n",
        "LPHMmap.insert('05', 'data05')\t\n",
        "LPHMmap.display(\"단어장 내용: \")\t\t\t\n",
        "\n",
        "print(\"탐색:game --> \", LPHMmap.search('23'))\t\n",
        "print(\"탐색:over --> \", LPHMmap.search('20'))\n",
        "print(\"탐색:data --> \", LPHMmap.search('99'))\n",
        "\n",
        "LPHMmap.delete('23')\t\t\t\n",
        "LPHMmap.delete('20')\t\t\t\n",
        "LPHMmap.display(\"단어장 내용: \")"
      ]
    }
  ],
  "metadata": {
    "colab": {
      "collapsed_sections": [],
      "provenance": []
    },
    "kernelspec": {
      "display_name": "Python 3",
      "name": "python3"
    },
    "language_info": {
      "name": "python"
    }
  },
  "nbformat": 4,
  "nbformat_minor": 0
}
