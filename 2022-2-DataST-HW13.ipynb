{
  "cells": [
    {
      "cell_type": "markdown",
      "metadata": {
        "id": "Gag1en13KazR"
      },
      "source": [
        "# 10.1 \n",
        "아래에 코드셀을 만들고, 셀에 인접행렬로 표현된 그래프를 인자로 받아 깊이우선탐색을 하는 함수 matGraphDFS(...) 를 정의하시오. 함수는 visit 되는 vertex 값을 출력하여야 한다. "
      ]
    },
    {
      "cell_type": "code",
      "execution_count": 1,
      "metadata": {
        "id": "EQUtcBycocPZ"
      },
      "outputs": [],
      "source": [
        "'''\n",
        "A - C - E - G\n",
        "|   |     \\ |\n",
        "B - D - F   H\n",
        "\n",
        "###### matGraphDFS ######\n",
        "1. node가 visited 집합에 없으면 node값을 출력한다. 만약 있다면 아무것도 실행하지 않는다.\n",
        "2. node의 인접노드로 하는 matGraphDFS를 재귀호출한다.\n",
        "'''\n",
        "def matGraphDFS(vertex:list, graphAM:list, node:str, visited = set()):\n",
        "  if node not in visited: # 이미 지나간 정점인지 확인\n",
        "    visited.add(node) # 지나간 정점 집합에 추가\n",
        "    print(node, end=\" \")\n",
        "    row = vertex.index(node)  # 현재 정점의 vertex index값을 찾는다. 이 값은 graphAM의 행값으로 적용된다\n",
        "    for col in range(len(vertex)):  \n",
        "      if graphAM[row][col] is 1:  # 인접한 노드를 찾는다\n",
        "        v = vertex[col]\n",
        "        matGraphDFS(vertex, graphAM, v, visited)  #재귀 호출"
      ]
    },
    {
      "cell_type": "markdown",
      "metadata": {
        "id": "MVWKAmz-wecI"
      },
      "source": [
        "아래 코드셀은 10.1 를 테스트 하는 코드이다. 주어진 데이터를 이용하여 테스트를 실행하시오. "
      ]
    },
    {
      "cell_type": "code",
      "execution_count": 2,
      "metadata": {
        "colab": {
          "base_uri": "https://localhost:8080/"
        },
        "id": "VMw3QptJo0wo",
        "outputId": "4f793067-138d-412a-9ba3-a40d6dbc2dbf"
      },
      "outputs": [
        {
          "name": "stdout",
          "output_type": "stream",
          "text": [
            "A B D C E G H F "
          ]
        }
      ],
      "source": [
        "# 교재 366 페이지 \n",
        "vertex = ['A', 'B', 'C', 'D', 'E', 'F', 'G', 'H' ]\n",
        "graphAM = [ [ 0,   1,   1,   0,   0,   0,   0,   0 ],\n",
        "            [ 1,   0,   0,   1,   0,   0,   0,   0 ],\n",
        "            [ 1,   0,   0,   1,   1,   0,   0,   0 ],\n",
        "            [ 0,   1,   1,   0,   0,   1,   0,   0 ],\n",
        "            [ 0,   0,   1,   0,   0,   0,   1,   1 ],\n",
        "            [ 0,   0,   0,   1,   0,   0,   0,   0 ],\n",
        "            [ 0,   0,   0,   0,   1,   0,   0,   1 ], \n",
        "            [ 0,   0,   0,   0,   1,   0,   1,   0 ] ]\n",
        "\n",
        "matGraphDFS(vertex, graphAM, 'A')"
      ]
    },
    {
      "cell_type": "markdown",
      "metadata": {
        "id": "Kb9RvSQfrEui"
      },
      "source": [
        "# 10.2\n",
        "아래에 코드셀을 만들고, 셀에 인접행렬로 표현된 그래프를 인자로 받아 너비우선탐색을 하는 함수 matGraphBFS(...) 를 정의하시오. 함수는 visit 되는 vertex 값을 출력하여야 한다."
      ]
    },
    {
      "cell_type": "code",
      "execution_count": 3,
      "metadata": {
        "id": "UIGwREUftnhb"
      },
      "outputs": [],
      "source": [
        "from queue import Queue\n",
        "'''\n",
        "A - C - E - G\n",
        "|   |     \\ |\n",
        "B - D - F   H\n",
        "\n",
        "###### matGraphBFS ######\n",
        "1. Queue클래스를 생성하고 노드에 인접한 노드 중 지나가지 않은 노드를 큐에 저장한다.\n",
        "2. 큐에 저장된 큐를 하나씩 꺼내어 그 값을 출력하고 노드에 인접하고 지나가지 않은 노드들을 큐에 저장한다.\n",
        "3. 큐에 요소가 없을 때까지 반복하고 큐가 빈 상태가 되면 반복문을 멈춘다\n",
        "'''\n",
        "def matGraphBFS(vertex:list, graphAM:list, node:str):\n",
        "  visited = set()\n",
        "  queue = Queue()\n",
        "  queue.put(node)\n",
        "  visited.add(node)\n",
        "  while not queue.empty():\n",
        "    v = queue.get()\n",
        "    print(v, end=\" \")\n",
        "    row = vertex.index(v)\n",
        "    for col in range(len(vertex)):\n",
        "      if graphAM[row][col] is 1 and vertex[col] not in visited:\n",
        "        queue.put(vertex[col])\n",
        "        visited.add(vertex[col])"
      ]
    },
    {
      "cell_type": "markdown",
      "metadata": {
        "id": "xRaT52vSrUT7"
      },
      "source": [
        "아래 코드셀은 10.2 을 테스트 하는 코드이다. 데이터는 10.1 문제에 사용한 vertex 와 graphAM 을 사용하시오."
      ]
    },
    {
      "cell_type": "code",
      "execution_count": 4,
      "metadata": {
        "colab": {
          "base_uri": "https://localhost:8080/"
        },
        "id": "EOLxleLIrZZe",
        "outputId": "357b2473-d517-4a74-9f81-373d5af6aae3"
      },
      "outputs": [
        {
          "name": "stdout",
          "output_type": "stream",
          "text": [
            "A B C D E F G H "
          ]
        }
      ],
      "source": [
        "matGraphBFS(vertex, graphAM, 'A')"
      ]
    },
    {
      "cell_type": "markdown",
      "metadata": {
        "id": "A666c2lcrgvr"
      },
      "source": [
        "# 10.3\n",
        "아래에 코드셀을 만들고, 셀에 인접행렬로 표현된 그래프를 인자로 받아 연결성분검사를  하는 함수 matGraphFindConnectedGrapth(...)와 너비우선 탐색을 이용한 matGraphBFS_cc(...) 를 정의하시오. 교재 379 페이지에 형식으로 연결성분을 출력하여야 한다. "
      ]
    },
    {
      "cell_type": "code",
      "execution_count": 5,
      "metadata": {
        "id": "fDJuetbGuA4V"
      },
      "outputs": [],
      "source": [
        "'''\n",
        "###### matGraphFindConnectedGrapth ######\n",
        "matGraphBFS_cc 메소드를 이용하여 한 정점을 기준으로 한 그래프를 반환 받고 visited에 지나간 정점을 저장한다.\n",
        "그 이후 지나가지 않은 정점을 찾아 matGraphBFS_cc 메소드를 이용하여 지나가지 않은 한 정점으로 한 그래프를 찾고 연결성분 개수를 1 증가시킨다\n",
        "모든 정점이 한 번씩 지나갔다면 그래프 연결성분 개수와 각 그래프의 정점들을 출력한다\n",
        "'''\n",
        "def matGraphFindConnectedGrapth(vertex:list, graphAM:list):\n",
        "  visited = set()\n",
        "  vertexList = list()\n",
        "  for v in vertex:\n",
        "    if v not in visited:\n",
        "      vtx = matGraphBFS_cc(vertex, graphAM, v)\n",
        "      vertexList.append(vtx)\n",
        "      for v in vtx:\n",
        "        visited.add(v)\n",
        "  print(\"matGraph_Find_Connected_Grapth:\")\n",
        "  print(\"그래프 연결성분 개수 = \", len(vertexList))\n",
        "  print(vertexList)\n",
        "  \n",
        "'''\n",
        "###### matGraphBFS_cc ######\n",
        "매개변수 node를 기준으로 넓이 우선 탐색하여 그래프에 연결되있는 모든 정점들을 리스트에 저장하여 반환한다\n",
        "'''\n",
        "def matGraphBFS_cc(vertex:list, graphAM:list, node:str):\n",
        "  visited = list(node)  # 지나간 정점을 저장. 매개변수 node를 삽입\n",
        "  queue = Queue() # 지나간 정점의 인접한 정점을 FIFO 형식으로 저장\n",
        "  queue.put(node) # 시작 정점 node를 삽입\n",
        "  while not queue.empty():\n",
        "    v = queue.get() # 지나간 정점을 반환\n",
        "    row = vertex.index(v) # 현재 정점의 vertex index값을 찾는다. 이 값은 graphAM의 행값으로 적용된다\n",
        "    for col in range(len(vertex)):\n",
        "      if graphAM[row][col] is 1 and vertex[col] not in visited: # 현재 정점과 다른 정점과 연결되어 있고 한 번도 지나가지 않은 정점일 경우\n",
        "        queue.put(vertex[col])  # 앞으로 지나갈 정점을 큐에 저장\n",
        "        visited.append(vertex[col]) # 앞으로 지나갈 정점을 저장\n",
        "  return visited"
      ]
    },
    {
      "cell_type": "markdown",
      "metadata": {
        "id": "srKkgMb0s6BG"
      },
      "source": [
        "아래 코드셀은 10.3 을 테스트 하는 코드를 작성하시오. 데이터는 10.1 문제에 사용한 vertex 와 graphAM 을 사용하시오."
      ]
    },
    {
      "cell_type": "code",
      "execution_count": 6,
      "metadata": {
        "colab": {
          "base_uri": "https://localhost:8080/"
        },
        "id": "y6WQ61hiSK_p",
        "outputId": "9e413ebc-f528-41bc-d87e-b018ef8df81c"
      },
      "outputs": [
        {
          "name": "stdout",
          "output_type": "stream",
          "text": [
            "matGraph_Find_Connected_Grapth:\n",
            "그래프 연결성분 개수 =  1\n",
            "[['A', 'B', 'C', 'D', 'E', 'F', 'G', 'H']]\n"
          ]
        }
      ],
      "source": [
        "matGraphFindConnectedGrapth(vertex, graphAM)"
      ]
    },
    {
      "cell_type": "markdown",
      "metadata": {
        "id": "dfcAA5ZktpAs"
      },
      "source": [
        "# 10.4\n",
        "아래에 코드셀을 만들고, 셀에 인접행렬로 표현된 그래프를 인자로 받아 너비우선탐색을 이용하여 신장트리를 구하는 함수 matGraphSpanningTreeBFS(...) 정의하시오. 교재 380 페이지에 있는 예제 형식으로 연결되는 간선들을 출력하여야 한다."
      ]
    },
    {
      "cell_type": "code",
      "execution_count": 7,
      "metadata": {
        "id": "9F3iUc2buRgB"
      },
      "outputs": [],
      "source": [
        "'''\n",
        "넓이 우선 탐색\n",
        "A - C - E - G\n",
        "|         \\ \n",
        "B - D - F   H\n",
        "\n",
        "###### matGraphSpanningTreeBFS ######\n",
        "매개변수 node를 기준으로 넓이 우선 탐색하여 그래프의 모든 간선을 출력한다\n",
        "'''\n",
        "def matGraphSpanningTreeBFS(vertex:list, graphAM:list, node:str):\n",
        "  visited = set(node) # 지나간 정점 저장. node를 집합에 저장\n",
        "  queue = Queue() # 지나간 정점의 인접한 정점을 FIFO 형식으로 저장\n",
        "  queue.put(node) # node를 큐에 저장\n",
        "  while not queue.empty():\n",
        "    v = queue.get() # 큐에서 노드를 하나 받는다\n",
        "    row = vertex.index(v) # 현재 정점의 vertex index값을 찾는다. 이 값은 graphAM의 행값으로 적용된다\n",
        "    for col in range(len(vertex)):\n",
        "      if graphAM[row][col] is 1 and vertex[col] not in visited: # 현재 정점과 다른 정점과 연결되어 있고 한 번도 지나가지 않은 정점일 경우\n",
        "        queue.put(vertex[col])    # 앞으로 지나갈 정점을 큐에 저장\n",
        "        visited.add(vertex[col])  # 앞으로 지나갈 정점을 저장\n",
        "        print(\"(\", v, \",\", vertex[col], \")\", end = \" \") # 간선 출력"
      ]
    },
    {
      "cell_type": "markdown",
      "metadata": {
        "id": "jSIx54oIugf2"
      },
      "source": [
        "아래 코드셀은 10.4 을 테스트 하는 코드를 작성하시오. 데이터는 10.1 문제에 사용한 vertex 와 graphAM 을 사용하시오."
      ]
    },
    {
      "cell_type": "code",
      "execution_count": 8,
      "metadata": {
        "colab": {
          "base_uri": "https://localhost:8080/"
        },
        "id": "7eLBVmfR9FjJ",
        "outputId": "a8598663-7ed7-4a2e-9011-7c4629f4e4b3"
      },
      "outputs": [
        {
          "name": "stdout",
          "output_type": "stream",
          "text": [
            "( A , B ) ( A , C ) ( B , D ) ( C , E ) ( D , F ) ( E , G ) ( E , H ) "
          ]
        }
      ],
      "source": [
        "matGraphSpanningTreeBFS(vertex, graphAM, 'A')"
      ]
    },
    {
      "cell_type": "markdown",
      "metadata": {
        "id": "xZLxOrNtu9ww"
      },
      "source": [
        "# 10.6\n",
        "아래에 코드셀을 만들고, 셀에 인접행렬로 표현된 그래프를 인자로 받아 브리지를 찾는 함수 matGraphFindBridge(...) 를 정의하시오.  "
      ]
    },
    {
      "cell_type": "code",
      "execution_count": 11,
      "metadata": {
        "id": "G-0gLEOLuWH3"
      },
      "outputs": [],
      "source": [
        "import copy\n",
        "'''\n",
        "###### CountConnectedGrapth ######\n",
        "위에 matGraphFindConnectedGrapth 메소드와 같은 동작을 해야한다.\n",
        "다른점은 연결성분의 개수를 반환한다\n",
        "'''\n",
        "def CountConnectedGrapth(vertex:list, graphAM:list):\n",
        "  visited = set() # 지나간 정점 저장\n",
        "  graphList = list() # 그래프를 저장\n",
        "  for v in vertex:\n",
        "    if v not in visited: \n",
        "      vtx = matGraphBFS_cc(vertex, graphAM, v)  # v를 정점으로 하는 그래프를 반환한다\n",
        "      graphList.append(vtx) # 그래프를 graphList에 저장한다.\n",
        "      for v in vtx: # 지나간 정점을 저장한다\n",
        "        visited.add(v)\n",
        "  return len(graphList) # 연결성분을 반환한다\n",
        "\n",
        "'''\n",
        "###### matGraphFindBridge ######\n",
        "1. 간선을 하나씩 끊어서 연결성분이 끊기 전과 비교했을 때 많아 지는지 비교한다.\n",
        "2. 연결성분이 초기보다 더 많아지면 끊은 간선이 브리지이므로 그 간선을 출력한다\n",
        "'''\n",
        "def matGraphFindBridge(vertex, graphAM):\n",
        "  size = len(vertex)  # 정점의 개수\n",
        "  connected_count = CountConnectedGrapth(vertex, graphAM) #초기 graph의 연결성분 개수\n",
        "  for row in range(size):\n",
        "    for col in range(row, size):\n",
        "      if graphAM[row][col] is 1:  \n",
        "        temp_graph = copy.deepcopy(graphAM) # deepcopy를 이용하여 기존 graphAM의 변형을 막는다\n",
        "        temp_graph[row][col] = temp_graph[col][row] = 0 # 그래프의 간선을 끊는 과정\n",
        "        temp_connected_count = CountConnectedGrapth(vertex, temp_graph) # 간선을 하나 끊은 그래프의 연결성분을 반환 받는다\n",
        "        if temp_connected_count > connected_count:  # 간선을 끊은 이후와 이전을 비교한다\n",
        "          print(\"(\", vertex[row], \",\", vertex[col], \")\", end=\" \")"
      ]
    },
    {
      "cell_type": "markdown",
      "metadata": {
        "id": "RwZgdgkQvgTO"
      },
      "source": [
        "아래 코드셀은 10.6 을 테스트 하는 코드를 작성하시오. 데이터는 문제 10.6 에 나와 있는 그래프를 인접행렬로 표현하여 사용하시오. "
      ]
    },
    {
      "cell_type": "code",
      "execution_count": 12,
      "metadata": {
        "colab": {
          "base_uri": "https://localhost:8080/"
        },
        "id": "EHwLn8H-Wv5E",
        "outputId": "c2e4d728-8e92-43f0-8c5c-0cd287e5f9e4"
      },
      "outputs": [
        {
          "name": "stdout",
          "output_type": "stream",
          "text": [
            "( B , C ) ( C , F ) "
          ]
        }
      ],
      "source": [
        "'''\n",
        "A - B - C\n",
        "| / |   |\n",
        "D - E   F \n",
        "'''\n",
        "vertex = ['A', 'B', 'C', 'D', 'E', 'F']\n",
        "graphAM = [[0, 1, 0, 1, 0, 0],\n",
        "           [1, 0, 1, 1, 1, 0],\n",
        "           [0, 1, 0, 0, 0, 1],\n",
        "           [1, 1, 0, 0, 1, 0],\n",
        "           [0, 1, 0, 1, 0, 0],\n",
        "           [0, 0, 1, 0, 0, 0]]\n",
        "\n",
        "matGraphFindBridge(vertex, graphAM)"
      ]
    }
  ],
  "metadata": {
    "colab": {
      "provenance": []
    },
    "kernelspec": {
      "display_name": "Python 3",
      "name": "python3"
    },
    "language_info": {
      "name": "python"
    }
  },
  "nbformat": 4,
  "nbformat_minor": 0
}
