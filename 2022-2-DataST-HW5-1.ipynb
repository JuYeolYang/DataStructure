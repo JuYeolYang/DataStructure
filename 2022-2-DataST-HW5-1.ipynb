{
  "cells": [
    {
      "cell_type": "markdown",
      "metadata": {
        "id": "Gag1en13KazR"
      },
      "source": [
        "## 4.2 \n",
        "\n",
        "아래에 코드셀을 만들고, 셀에 함수 testPalindrome 을 작성. "
      ]
    },
    {
      "cell_type": "code",
      "execution_count": 2,
      "metadata": {
        "id": "oROlP7qhJS-u"
      },
      "outputs": [],
      "source": [
        "'''\n",
        "Stack class\n",
        "top: 스택에 가장 최근에 들어온 요소의 인덱스를 저장한다\n",
        "isEmpty(): self.stack이 빈 리스트인지 검사하는 메소드이다. 비어있으면 True, 비어 있지 않으면 False를 반환한다.\n",
        "push(element): self.stack 리스트에 element를 추가한다.\n",
        "pop(): self.stack에 가장 최근에 들어온 요소를 반환하고 삭제한다.\n",
        "peek(): 스택에 가장 위에 있는 값을 반환한다 \n",
        "size(): self.stack의 크기를 반환한다.\n",
        "clear(): self.stack 리스트를 빈 리스트화 한다.\n",
        "\n",
        "testPalindrome(palindrome:str)\n",
        "stack: 문자열에서 ' , .과 빈공간을 제외한 문자를 stack 객체에 저장한다\n",
        "pal: ' , .과 빈공간을 제외한 문자를 문자열로 저장한다\n",
        "1. 로컬변수로 Stack 클래스의 객체를 생성한다.\n",
        "2. 매개변수로 들어온 문자열에서 ' , .과 빈공간을 제외한 문자를 소문자로 변환 후 stack에 push한다. \n",
        "3. (0<= i <= stack.size()//2) 일 때 stack.pop()과 pal[i]의 값이 같은지 확인한다. 같으면 i를 1 증가한 값으로 비교를 하고 서로 같지 않으면 회문이 아니라고 출력한다\n",
        "'''\n",
        "class Stack:\n",
        "  def __init__(self):\n",
        "    self.__stack = list()\n",
        "    self.__top = -1\n",
        "  def isEmpty(self):\n",
        "    return self.__top == -1\n",
        "  def push(self,element):\n",
        "    self.__top += 1\n",
        "    self.__stack.append(element)\n",
        "  def pop(self):\n",
        "    if self.__top == -1:\n",
        "      print(\"stack is Empty\")\n",
        "      return\n",
        "    value = self.__stack[self.__top]\n",
        "    del self.__stack[self.__top]\n",
        "    self.__top -= 1\n",
        "    return value\n",
        "  def peek(self):\n",
        "    if self.__top == -1:\n",
        "      print(\"stack is Empty\")\n",
        "      return\n",
        "    return self.__stack[self.__top - 1]\n",
        "  def size(self):\n",
        "    return self.__top + 1\n",
        "  def clear(self):\n",
        "    self.__stack.clear()\n",
        "    self.__top = -1\n",
        "\n",
        "\n",
        "def testPalindrome(palindrome:str):\n",
        "    stack = Stack()\n",
        "    pal = \"\"\n",
        "    for p in palindrome:\n",
        "      if p not in \"',. \":\n",
        "        pal += p\n",
        "        stack.push(p.lower())\n",
        "    for i in range(stack.size()//2):\n",
        "      if stack.pop() != pal[i]:\n",
        "        print(\"회문이 아닙니다.\")\n",
        "        return\n",
        "    \n",
        "    print(\"회문입니다.\")"
      ]
    },
    {
      "cell_type": "markdown",
      "metadata": {
        "id": "MPF9N1VNKyYb"
      },
      "source": [
        "아래에 코드셀을 만들고, testPalindrome 함수를 호출하여, 입력 \"madam, I'm Adam\" 과 'race car'를 데이터로 하여 테스트하시오.  "
      ]
    },
    {
      "cell_type": "code",
      "execution_count": 3,
      "metadata": {
        "colab": {
          "base_uri": "https://localhost:8080/",
          "height": 0
        },
        "id": "a-rVIgWuNKDS",
        "outputId": "a7b4fd25-799f-4238-b9ef-cdff53252c40"
      },
      "outputs": [
        {
          "name": "stdout",
          "output_type": "stream",
          "text": [
            "회문입니다.\n",
            "회문입니다.\n"
          ]
        }
      ],
      "source": [
        "test = [\"madam, I'm Adam\", \"race car\"]\n",
        "\n",
        "for t in test:\n",
        "  testPalindrome(t)"
      ]
    },
    {
      "cell_type": "markdown",
      "metadata": {
        "id": "KVDXivqYWgD6"
      },
      "source": [
        "# 4.3\n"
      ]
    },
    {
      "cell_type": "markdown",
      "metadata": {
        "id": "l_jlkOyfYCeT"
      },
      "source": [
        "\n",
        "아래에 코드셀을 만들고, 셀에 4.3 에서 요구된 사항을 반영하여 checkBracketsUpgrade 를 구현하시오. 단 변경사항은 입력은 파일을 읽어 오는 것이 아니고 프로그램의 줄을 요소로 가지는 리스트로 주도록 변경. \n",
        "\n"
      ]
    },
    {
      "cell_type": "code",
      "execution_count": 5,
      "metadata": {
        "id": "nORPJwY6NnAT"
      },
      "outputs": [],
      "source": [
        "'''\n",
        "조건 1: 왼쪽 괄호의 개수와 오른쪽 괄호의 개수가 같아야 한다\n",
        "조건 2: 같은 타입의 괄호에서 왼쪽 괄호가 오른쪽 괄호보다 먼저 나와야 한다\n",
        "조건 3: 서로 다른 타입의 괄호 쌍이 서로를 교차하면 안 된다\n",
        "\n",
        "left_bracket: 왼쪽괄호('(, {, [')만 모아둔 사전이다. \n",
        "right_bracket: 오른쪽 괄호('), }, ]')만 모아둔 사전이다.\n",
        "stack: Stack class의 객체이다. 문자열 중 왼쪽괄호인 것만 push한다.\n",
        "error: 코드가 위에서 오류를 한 번 범했다면 True로 바꾸어 아래서 다른 오류를 출력하지 않게 한다.\n",
        "\n",
        "1. 처음에 스택이 비었는지 확인하고 비어있다면 다음에 들어올 괄호가 만약 닫히는 괄호이면 조건2에 위배되므로 에러코드 2와 줄 수, 문자 수를 출력한다. error을 True로 한다\n",
        "2. 왼쪽괄호이면 stack에 push한다.\n",
        "3. 스택이 비어있지 않고 다음 문자가 오른쪽 괄호일 때 left_bracket의 키값을 'left_bracket[stack.pop()] == right_bracket[bracket]'을 비교하여 같으면 반복하고 다르면 조건3을 위반한 것이므로 에러코드 3과 줄 수, 문자수를 출력한다. error을 True로 한다.\n",
        "4. 스택이 비어있지 않고 error가 False이면 stack.peek()를 하여 가장 최근 괄호가 어디에 있었는지 확인 후 에러코드1과 줄수, 문자수를 출력한다. 스택이 비어있으면 '0'을 출력한다.\n",
        "'''\n",
        "\n",
        "def checkBracketsUpgrade(Lines:list):\n",
        "  left_bracket = {'(': 0, '{': 1, '[': 2}\n",
        "  right_bracket = {')': 0, '}': 1, ']': 2}\n",
        "  for i in range(len(Lines)):\n",
        "    l = Lines[i]\n",
        "    error = False\n",
        "    stack = Stack()\n",
        "    for j in range(len(l)):\n",
        "      a = l[j] #문자 하나를 받아온다\n",
        "      if stack.isEmpty():\n",
        "        if a in \")}]\":  #조건2 위반\n",
        "          print(\"Error Code: 2, Line: {}, Index: {}\".format(i+1, j+1))\n",
        "          error = True\n",
        "          break\n",
        "\n",
        "      if a in \"({[\":\n",
        "        stack.push(a)\n",
        "        continue\n",
        "      \n",
        "      if a in \")}]\":\n",
        "        if left_bracket[stack.pop()] == right_bracket[a]:\n",
        "          continue\n",
        "        else: # 조건3 위반\n",
        "          print(\"Error Code: 3, Line: {}, Index: {}\".format(i+1, j+1))\n",
        "          error = True\n",
        "          break\n",
        "    if not stack.isEmpty() and not error:\n",
        "      for j in range(len(l)):\n",
        "        if l[j] == stack.peek():  #조건1 위반\n",
        "          print(\"Error Code: 1, Line: {}, Index: {}\".format(i+1, j+1))\n",
        "          error = True\n",
        "          break\n",
        "    if not error:\n",
        "      print(\"0\")\n",
        "\n"
      ]
    },
    {
      "cell_type": "markdown",
      "metadata": {
        "id": "VZE7QAUdYY2k"
      },
      "source": [
        "테스트: 아래에 코드셀을 만들고, 위에서 작성된 checkBracketsUpgrade 를 **다음** 입력에 대하여 테스트하시오. \n",
        "\n",
        "myLines = [\"{A[(i+1)] = 0}\", \"if ( (i==0) and (j==0):\", \"A[(i+1]) =0\"]"
      ]
    },
    {
      "cell_type": "code",
      "execution_count": 6,
      "metadata": {
        "colab": {
          "base_uri": "https://localhost:8080/",
          "height": 0
        },
        "id": "T3NJ1CP-Z1IO",
        "outputId": "656dc1c1-31a4-4343-c770-7d16dbe624c8"
      },
      "outputs": [
        {
          "name": "stdout",
          "output_type": "stream",
          "text": [
            "0\n",
            "Error Code: 1, Line: 2, Index: 4\n",
            "Error Code: 3, Line: 3, Index: 7\n"
          ]
        }
      ],
      "source": [
        "myLines = [\"{A[(i+1)] = 0}\", \"if ( (i==0) and (j==0):\", \"A[(i+1]) =0\"]\n",
        "checkBracketsUpgrade(myLines)"
      ]
    }
  ],
  "metadata": {
    "colab": {
      "collapsed_sections": [],
      "provenance": []
    },
    "kernelspec": {
      "display_name": "Python 3",
      "name": "python3"
    },
    "language_info": {
      "name": "python"
    }
  },
  "nbformat": 4,
  "nbformat_minor": 0
}
