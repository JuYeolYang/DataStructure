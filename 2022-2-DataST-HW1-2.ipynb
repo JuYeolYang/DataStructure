{
  "cells": [
    {
      "cell_type": "markdown",
      "metadata": {
        "id": "B9uoWFT9RxqT"
      },
      "source": [
        "문제 2.2\n",
        "다음 셀에 문제에 대한 답을 up_and_down_game 함수로 작성하시오. "
      ]
    },
    {
      "cell_type": "code",
      "execution_count": null,
      "metadata": {
        "id": "1fz0fwNMR-O0"
      },
      "outputs": [],
      "source": [
        "import random \n",
        "def up_and_down_game():\n",
        "  answer = random.randrange(0,100)\n",
        "  min = 0\n",
        "  max = 99\n",
        "\n",
        "  for i in range(10):\n",
        "    guess = int(input(\"숫자를를 입력하세요요(범위:{}~{}): \".format(min, max)))\n",
        "    if guess == answer:\n",
        "      print(\"정답입니다. {}번 만에에 맞추셨습니다.\".format(i+1))\n",
        "      break\n",
        "    elif guess > answer:\n",
        "      print(\"아닙니다. 더 작은 숫자입니다다!\")\n",
        "      max = guess\n",
        "    elif guess < answer:\n",
        "      print(\"아닙니다. 더 큰 숫자입니다다!\")\n",
        "      min = guess"
      ]
    },
    {
      "cell_type": "markdown",
      "metadata": {
        "id": "TMVoNZkzR_Tu"
      },
      "source": [
        "위에서 작성한 함수를 호출하여 정답을 맞추는 경우를 제시하시오. "
      ]
    },
    {
      "cell_type": "code",
      "execution_count": null,
      "metadata": {
        "colab": {
          "base_uri": "https://localhost:8080/"
        },
        "id": "Pe2cCnB0TRpx",
        "outputId": "b19125d8-db69-43ec-fe7b-f60464204316"
      },
      "outputs": [
        {
          "name": "stdout",
          "output_type": "stream",
          "text": [
            "숫자를를 입력하세요요(범위:0~99): 50\n",
            "아닙니다. 더 작은 숫자입니다다!\n",
            "숫자를를 입력하세요요(범위:0~50): 25\n",
            "아닙니다. 더 작은 숫자입니다다!\n",
            "숫자를를 입력하세요요(범위:0~25): 13\n",
            "아닙니다. 더 작은 숫자입니다다!\n",
            "숫자를를 입력하세요요(범위:0~13): 6\n",
            "아닙니다. 더 큰 숫자입니다다!\n",
            "숫자를를 입력하세요요(범위:6~13): 9\n",
            "아닙니다. 더 큰 숫자입니다다!\n",
            "숫자를를 입력하세요요(범위:9~13): 11\n",
            "정답입니다. 6번 만에에 맞추셨습니다.\n"
          ]
        }
      ],
      "source": [
        "up_and_down_game()"
      ]
    },
    {
      "cell_type": "markdown",
      "metadata": {
        "id": "9sulvy5lTSIQ"
      },
      "source": [
        "문제 2.3 다음 셀에 문제에 대한 답을 draw_triangle 함수로 작성하시오."
      ]
    },
    {
      "cell_type": "code",
      "execution_count": null,
      "metadata": {
        "id": "hKUl4qjITple"
      },
      "outputs": [],
      "source": [
        "def draw_triangle(height):\n",
        "  for r in range(height):\n",
        "    print(\" \"*3*(height - r - 1),end='')\n",
        "    for c in range(1, 2*r + 2,2):\n",
        "      print(\"{0:3}\".format(c), end='')\n",
        "    for c in range(2*r - 1, 0, -2):\n",
        "      print(\"{0:3}\".format(c), end='')\n",
        "    print('\\n')\n"
      ]
    },
    {
      "cell_type": "markdown",
      "metadata": {
        "id": "WjN-ziZFTqKN"
      },
      "source": [
        "위에서 작성한 함수에 21을 패러미터 값으로 호출하여 테스트를 아래 셀에 작성하시오.  "
      ]
    },
    {
      "cell_type": "code",
      "execution_count": null,
      "metadata": {
        "colab": {
          "base_uri": "https://localhost:8080/"
        },
        "id": "G6lbDTrgT42F",
        "outputId": "8ae13a46-770f-413f-bf3b-3541aef89312"
      },
      "outputs": [
        {
          "name": "stdout",
          "output_type": "stream",
          "text": [
            "                                                              1\n",
            "\n",
            "                                                           1  3  1\n",
            "\n",
            "                                                        1  3  5  3  1\n",
            "\n",
            "                                                     1  3  5  7  5  3  1\n",
            "\n",
            "                                                  1  3  5  7  9  7  5  3  1\n",
            "\n",
            "                                               1  3  5  7  9 11  9  7  5  3  1\n",
            "\n",
            "                                            1  3  5  7  9 11 13 11  9  7  5  3  1\n",
            "\n",
            "                                         1  3  5  7  9 11 13 15 13 11  9  7  5  3  1\n",
            "\n",
            "                                      1  3  5  7  9 11 13 15 17 15 13 11  9  7  5  3  1\n",
            "\n",
            "                                   1  3  5  7  9 11 13 15 17 19 17 15 13 11  9  7  5  3  1\n",
            "\n",
            "                                1  3  5  7  9 11 13 15 17 19 21 19 17 15 13 11  9  7  5  3  1\n",
            "\n",
            "                             1  3  5  7  9 11 13 15 17 19 21 23 21 19 17 15 13 11  9  7  5  3  1\n",
            "\n",
            "                          1  3  5  7  9 11 13 15 17 19 21 23 25 23 21 19 17 15 13 11  9  7  5  3  1\n",
            "\n",
            "                       1  3  5  7  9 11 13 15 17 19 21 23 25 27 25 23 21 19 17 15 13 11  9  7  5  3  1\n",
            "\n",
            "                    1  3  5  7  9 11 13 15 17 19 21 23 25 27 29 27 25 23 21 19 17 15 13 11  9  7  5  3  1\n",
            "\n",
            "                 1  3  5  7  9 11 13 15 17 19 21 23 25 27 29 31 29 27 25 23 21 19 17 15 13 11  9  7  5  3  1\n",
            "\n",
            "              1  3  5  7  9 11 13 15 17 19 21 23 25 27 29 31 33 31 29 27 25 23 21 19 17 15 13 11  9  7  5  3  1\n",
            "\n",
            "           1  3  5  7  9 11 13 15 17 19 21 23 25 27 29 31 33 35 33 31 29 27 25 23 21 19 17 15 13 11  9  7  5  3  1\n",
            "\n",
            "        1  3  5  7  9 11 13 15 17 19 21 23 25 27 29 31 33 35 37 35 33 31 29 27 25 23 21 19 17 15 13 11  9  7  5  3  1\n",
            "\n",
            "     1  3  5  7  9 11 13 15 17 19 21 23 25 27 29 31 33 35 37 39 37 35 33 31 29 27 25 23 21 19 17 15 13 11  9  7  5  3  1\n",
            "\n",
            "  1  3  5  7  9 11 13 15 17 19 21 23 25 27 29 31 33 35 37 39 41 39 37 35 33 31 29 27 25 23 21 19 17 15 13 11  9  7  5  3  1\n",
            "\n"
          ]
        }
      ],
      "source": [
        "height = 21\n",
        "draw_triangle(height)"
      ]
    },
    {
      "cell_type": "markdown",
      "metadata": {
        "id": "Zi4K5qZAT5SM"
      },
      "source": [
        "문제 2.4 다음 셀에 문제에 대한 답을 draw_tree 라는 함수로 작성하시오. 지정된 함수는 순환 함수(Recursive function)임에 유의하시오. 또한 결과는 2차원 배열 map 을 사용한다고 가정하시오. "
      ]
    },
    {
      "cell_type": "code",
      "execution_count": 22,
      "metadata": {
        "id": "wSPItaS5UfEo"
      },
      "outputs": [],
      "source": [
        "def draw_tree(row, left, right):\n",
        "  if left == 0 and right == 0:\n",
        "    return\n",
        "  else:\n",
        "    index = 0\n",
        "    for x in range(2**row):\n",
        "      for l in range(left):\n",
        "        map[row][index] = '-'\n",
        "        index += 1\n",
        "      map[row][index] = 'X'\n",
        "      index += 1\n",
        "      for r in range(right):\n",
        "        map[row][index] = '-'\n",
        "        index += 1\n",
        "    t_left = left // 2\n",
        "    t_right = right // 2\n",
        "    draw_tree(row+1, t_left, t_right)"
      ]
    },
    {
      "cell_type": "markdown",
      "metadata": {
        "id": "q37Jev0AVjiY"
      },
      "source": [
        "다음에 map 을 출력하는 print_tree 라는 함수를 작성하시오. "
      ]
    },
    {
      "cell_type": "code",
      "execution_count": null,
      "metadata": {
        "id": "mhTtCFDpj6H9"
      },
      "outputs": [],
      "source": [
        "def print_tree():\n",
        "  row = len(map)\n",
        "  col = len(map[0])\n",
        "  for r in range(row):\n",
        "    for c in range(col):\n",
        "      print(map[r][c], end='')\n",
        "    print(\"\\n\")"
      ]
    },
    {
      "cell_type": "markdown",
      "metadata": {
        "id": "H0n9WWDRVN2e"
      },
      "source": [
        "다음의 코드를 이용하여 위에서 정의한 함수를 테스트 하시오. 수정하지 말 것. "
      ]
    },
    {
      "cell_type": "code",
      "execution_count": 23,
      "metadata": {
        "colab": {
          "base_uri": "https://localhost:8080/"
        },
        "id": "vWba13s6VKSi",
        "outputId": "d8aa55b5-34a0-45f1-8422-280f337e1716"
      },
      "outputs": [
        {
          "name": "stdout",
          "output_type": "stream",
          "text": [
            "X---------------------------------------------------------------\n",
            "\n",
            "X-------------------------------X-------------------------------\n",
            "\n",
            "X---------------X---------------X---------------X---------------\n",
            "\n",
            "X-------X-------X-------X-------X-------X-------X-------X-------\n",
            "\n",
            "X---X---X---X---X---X---X---X---X---X---X---X---X---X---X---X---\n",
            "\n",
            "X-X-X-X-X-X-X-X-X-X-X-X-X-X-X-X-X-X-X-X-X-X-X-X-X-X-X-X-X-X-X-X-\n",
            "\n"
          ]
        }
      ],
      "source": [
        "ROWS = 6\n",
        "COLS = 64\n",
        "map = [[0 for x in range(COLS)] for x in range(ROWS)]\n",
        "draw_tree(0, 0, COLS-1)\n",
        "print_tree()"
      ]
    },
    {
      "cell_type": "markdown",
      "metadata": {
        "id": "t52V7RGuV55i"
      },
      "source": [
        "문제 2.5 다음 셀에 Bag 클래스를 작성하시오. "
      ]
    },
    {
      "cell_type": "code",
      "execution_count": null,
      "metadata": {
        "id": "HoYz1IJqWADg"
      },
      "outputs": [],
      "source": [
        "class Bag:\n",
        "  def __init__(self):\n",
        "    self.bag = list()\n",
        "  def insert(self, e):\n",
        "    self.bag.append(e)\n",
        "  def remove(self, e):\n",
        "    self.bag.remove(e)\n",
        "  def contains(self, e):\n",
        "    return e in self.bag\n",
        "  def count(self):\n",
        "    return len(self.bag)"
      ]
    },
    {
      "cell_type": "markdown",
      "metadata": {
        "id": "LnKC6XlOWAdN"
      },
      "source": [
        "다음의 코드를 이용하여 위에서 작성한 Bag 클래스를 테스트 하시오. "
      ]
    },
    {
      "cell_type": "code",
      "execution_count": null,
      "metadata": {
        "colab": {
          "base_uri": "https://localhost:8080/"
        },
        "id": "1v04nkNQWPoU",
        "outputId": "c318c591-9e01-4fb9-bbad-9eb6b0888cf7"
      },
      "outputs": [
        {
          "name": "stdout",
          "output_type": "stream",
          "text": [
            "가방속의 물건: ['휴대폰', '지갑', '손수건', '빗', '자료구조', '야구공']\n",
            "가방속의 물건: ['휴대폰', '지갑', '빗', '자료구조', '야구공', '빗']\n"
          ]
        }
      ],
      "source": [
        "myBag = Bag()\n",
        "myBag.insert('휴대폰');    myBag.insert('지갑')\n",
        "myBag.insert('손수건');    myBag.insert('빗')\n",
        "myBag.insert('자료구조');  myBag.insert('야구공')\n",
        "print('가방속의 물건:', myBag.bag)\n",
        "\n",
        "myBag.insert('빗')\n",
        "myBag.remove('손수건')\n",
        "print('가방속의 물건:', myBag.bag)"
      ]
    }
  ],
  "metadata": {
    "colab": {
      "collapsed_sections": [],
      "provenance": []
    },
    "kernelspec": {
      "display_name": "Python 3",
      "name": "python3"
    },
    "language_info": {
      "name": "python"
    }
  },
  "nbformat": 4,
  "nbformat_minor": 0
}
