{
  "cells": [
    {
      "cell_type": "markdown",
      "metadata": {
        "id": "w9rXA9hpu8KL"
      },
      "source": [
        "## 9.4"
      ]
    },
    {
      "cell_type": "markdown",
      "metadata": {
        "id": "c7TV7nI3vG4n"
      },
      "source": [
        "아래 코드셀에 우선순위 큐 클래스 PQueueWithBST 를 작성하시오. "
      ]
    },
    {
      "cell_type": "code",
      "execution_count": 6,
      "metadata": {
        "id": "ycUjBC-K2swm"
      },
      "outputs": [],
      "source": [
        "'''\n",
        "PQueueWithBST: 우선순위 큐인데 최대 힙 트리 구조를 하고 있다\n",
        "   size: 리스트에 들어가있는 노드의 개수를 반환\n",
        "isEmpty: 리스트가 비어있으면 True, 아니면 False를 반환\n",
        " Parent: 노드의 부모 노드를 반환한다\n",
        "   Left: 왼쪽 자식 노드를 반환한다\n",
        "  Right: 오른쪽 자식 노드를 반환한다\n",
        "euqueue: 노드를 큐에 저장한다. 트리 구조에 맞게 리스트에 삽입된다\n",
        "dequeue: 리스트에서 가장 큰 값을 반환한다.\n",
        "'''\n",
        "class PQueueWithBST:    # 최대 힙 클래스\n",
        "  def __init__(self):   \n",
        "    self.items = []\n",
        "    self.items.append(0)\n",
        "  def size(self):     # 힙 크기\n",
        "    return len(self.items) - 1\n",
        "  def isEmpty(self):  # 공백 검사\n",
        "    return self.size() == 0\n",
        "  def Parent(self, i):# 부모노드 반환\n",
        "    return self.items[i//2]\n",
        "  def Left(self, i):  # 왼쪽 자식 반환\n",
        "    return self.items[i*2]\n",
        "  def Right(self, i): # 오른쪽 자식 반환\n",
        "    return self.items[i*2+1]\n",
        "  def enqueue(self, n): # 노드 삽입\n",
        "    self.items.append(n)  # 맨 마지막 노드로 일단 삽입\n",
        "    i = self.size()       #노드 n의 위치\n",
        "    while(i != 1 and n > self.Parent(i)): # 부모보다 큰 동안 계속 업힙\n",
        "      self.items[i] = self.Parent(i)  # 부모를 끌어내림\n",
        "      i = i // 2  # i를 부모의 인덱스로 올림\n",
        "    self.items[i] = n # 마지막 위치에 n 삽입\n",
        "  def dequeue(self):\n",
        "    parent = 1\n",
        "    child = 2\n",
        "    if not self.isEmpty():\n",
        "      hroot = self.items[1] # 삭제할 루트를 복사해둠\n",
        "      last = self.items[self.size()]  # 마지막 노드\n",
        "      while(child <= self.size()):    # 마지막 노드 이전까지\n",
        "        # 만약 오른쪽 노드가 더 크면 child를 1 증가(기본은 왼쪽 노드)\n",
        "        if child < self.size() and self.Left(parent) < self.Right(parent):\n",
        "          child += 1\n",
        "        if last >= self.items[child]: # 더 큰 자식이 더 작으면\n",
        "          break # 삽입 위치를 찾음. down-heap 종료\n",
        "        self.items[parent] = self.items[child]\n",
        "        parent = child\n",
        "        child *= 2\n",
        "      self.items[parent] = last # 맨 자미작 노드를 parent위치에 복사\n",
        "      self.items.pop(-1)  # 맨 마지막 노드 삭제 \n",
        "      return hroot  #저장해두었던 루트를 반환"
      ]
    },
    {
      "cell_type": "markdown",
      "metadata": {
        "id": "_PRMFZEKvdz7"
      },
      "source": [
        "아래의 코드를 이용하여 테스트를 수행하시오."
      ]
    },
    {
      "cell_type": "code",
      "execution_count": 7,
      "metadata": {
        "colab": {
          "base_uri": "https://localhost:8080/",
          "height": 0
        },
        "id": "znE830aqwHcn",
        "outputId": "d7973062-bd54-488c-9312-0d42c65e0d70"
      },
      "outputs": [
        {
          "name": "stdout",
          "output_type": "stream",
          "text": [
            "PQueueWithBST: [0, 60, 34, 50, 18, 15, 27, 45]\n",
            "Max Priority =  60\n",
            "Max Priority =  50\n",
            "Max Priority =  45\n",
            "Max Priority =  34\n",
            "Max Priority =  27\n",
            "Max Priority =  18\n",
            "Max Priority =  15\n"
          ]
        }
      ],
      "source": [
        "q = PQueueWithBST()\n",
        "q.enqueue( 34 )\n",
        "q.enqueue( 18 )\n",
        "q.enqueue( 27 )\n",
        "q.enqueue( 45 )\n",
        "q.enqueue( 15 )\n",
        "q.enqueue( 50 )\n",
        "q.enqueue( 60 )\n",
        "\n",
        "print(\"PQueueWithBST:\", q.items)\n",
        "while not q.isEmpty() :\n",
        "    print(\"Max Priority = \", q.dequeue() )"
      ]
    },
    {
      "cell_type": "markdown",
      "metadata": {
        "id": "KTXAInlpvHi1"
      },
      "source": [
        "## 추가문제: \n",
        "다음 코드 셀에 avl 를 구현한 AVL_Tree 클래스를 구현하라. 트리에 사용되는 노드는 다음의 TreeNode 클래스를 사용하라. 단 트리의 height 정의는 교재와 달리,  해당 노드를 루트로 하는 서브 트리에서 가장 긴 경로에 있는 간선의 수로 정의한다. 또한, 균형 인수는 BalanceFactor = height(left-sutree) − height(right-sutree) 로 정의한다. 메소드 printInorder 는 inorder traversal 에 따라 순회를 하면서 다음과 같은 형태로 각 노드 정보를 출력한다: [value:#, height:#, BF:#]. 여기서 BF 는 Balance Factor 를 의미한다. "
      ]
    },
    {
      "cell_type": "code",
      "execution_count": 8,
      "metadata": {
        "id": "zqq816sFy-nz"
      },
      "outputs": [],
      "source": [
        "class TreeNode:\n",
        "    def __init__(self, val):\n",
        "        self.val = val\n",
        "        self.left = None\n",
        "        self.right = None\n",
        "        self.height = -100\n",
        "        self.bal_factor = -100 # 균형인수값"
      ]
    },
    {
      "cell_type": "code",
      "execution_count": 9,
      "metadata": {
        "id": "1-i7w9RlzG_I"
      },
      "outputs": [],
      "source": [
        "'''\n",
        "        rotateLL: 트리를 시계방향으로 회전시킨다\n",
        "        rotateRR: 트리를 시계 반대방향으로 회전시킨다\n",
        "        rotateRL: 트리를 LL회전 후 RR회전을 한다\n",
        "        rotateLR: 트리를 RR회전 후 LL회전을 한다\n",
        "     calc_height: 노드의 높이를 구한다\n",
        "calc_height_diff: 노드의 왼쪽 자식과 오른쪽 자식 높이의 차를 반환한다\n",
        "       reBalance: 트리를 AVL트리로 조정한다\n",
        "      insert_avl: 트리에 노드를 삽입하고 reBalance함수를 이용하여 AVL트리로 만든다\n",
        "      count_node: 트리의 총 노드 개수를 반환한다\n",
        "      count_leaf: 트리의 총 leaf 노드 개수르 반환한다\n",
        "   reset_options: 트리의 노드의 height, bal_factor의 값을 재조정한다\n",
        "    printInorder: 중위순회로 노드의 value, height, bal_factor값을 출력한다\n",
        "\n",
        "======= AVL_Tree ========\n",
        "             insert: 노드를 트리에 삽입하고 AVL트리로 제조정한다\n",
        "reset_options(self): 노드의 height, bal_factor값을 재조정한다\n",
        "       printInorder: 중위순회로 노드의 value, height, bal_factor값을 출력한다\n",
        "            display: 전위순회로 노드의 val값을 출력한다\n",
        "         count_node: 트리의 총 노드 개수를 반환하다\n",
        "         count_leaf: 트리의 총 leaf 노드 개수르 반환한다\n",
        "        calc_height: 트리의 높이를 구한다\n",
        "'''\n",
        "def rotateLL(A):  # LL회전\n",
        "  B = A.left\n",
        "  A.left = B.right\n",
        "  B.right = A\n",
        "  return B\n",
        "\n",
        "def rotateRR(A):  # RR회전\n",
        "  B = A.right\n",
        "  A.right = B.left\n",
        "  B.left = A\n",
        "  return B\n",
        "\n",
        "def rotateRL(A):  # RL회전\n",
        "  B = A.right\n",
        "  A.right = rotateLL(B)\n",
        "  return rotateRR(A)\n",
        "\n",
        "def rotateLR(A):  # LR회전\n",
        "  B = A.left\n",
        "  A.left = rotateRR(B)\n",
        "  return rotateLL(A)\n",
        "\n",
        "def calc_height(n): # n노드부터 leaf노드까지의 높이\n",
        "  if n is None:\n",
        "    return 0\n",
        "  hLeft = calc_height(n.left) #왼쪽 자식노드 높이\n",
        "  hRight = calc_height(n.right) # 오른쪽 자식노드 높이\n",
        "  if hLeft > hRight:\n",
        "    return hLeft + 1\n",
        "  else:\n",
        "    return hRight + 1\n",
        "\n",
        "def calc_height_diff(n):  # 왼쪽과 오른쪽 자식 높이의 차\n",
        "  if n is None:\n",
        "    return 0\n",
        "  return calc_height(n.left) - calc_height(n.right)\n",
        "\n",
        "def reBalance(parent):  # AVL 트리로 조정하는 함수\n",
        "  hDiff = calc_height_diff(parent)  # parent노드의 균형\n",
        "  if hDiff > 1: # 왼쪽으로 기울어져 있는 경우\n",
        "    if calc_height_diff(parent.left) > 0: #왼쪽 자식이 왼쪽으로 기울어져 있는 경우\n",
        "      parent = rotateLL(parent)\n",
        "    else: # 왼쪽 자식이 오른쪽으로 기울어져 있는 경우\n",
        "      parent = rotateLR(parent)\n",
        "  elif hDiff < -1:  # 오른쪽으로 기울어져 있는 경우\n",
        "    if calc_height_diff(parent.right) < 0:  # 오른쪽 자식이 오른쪽으로 기울어져 있는 경우\n",
        "      parent = rotateRR(parent)\n",
        "    else: # 오른쪽 자식이 왼쪽으로 기울어져 있는 경우\n",
        "      parent = rotateRL(parent)\n",
        "  return parent\n",
        "\n",
        "def insert_avl(parent, node): # AVL 트리가 되게끔 노드를 삽입한다\n",
        "  if node.val < parent.val:   # 노드가 더 작은 경우\n",
        "    if parent.left != None: \n",
        "      parent.left = insert_avl(parent.left, node)\n",
        "    else:\n",
        "      parent.left = node\n",
        "    return reBalance(parent)  # 재조정\n",
        "  elif node.val > parent.val: # 노드가 더 큰 경우\n",
        "    if parent.right != None:\n",
        "      parent.right = insert_avl(parent.right, node)\n",
        "    else:\n",
        "      parent.right = node\n",
        "    return reBalance(parent)  # 재조정\n",
        "  else:\n",
        "    print(\"중복된 키 에러\")\n",
        "\n",
        "def count_node(node): # 노드의 총 개수를 반환\n",
        "  if node is None:\n",
        "    return 0\n",
        "  else:\n",
        "    return count_node(node.left) + count_node(node.right) + 1\n",
        "\n",
        "def count_leaf(node): # 루트의 leaf 노드의 총 개수 반환\n",
        "  if node is None:  # leaf 노드에서 더 내려온 경우\n",
        "    return 0\n",
        "  elif node.right is None and node.left is None:  #leaf노드인 경우\n",
        "    return 1\n",
        "  else:\n",
        "    return count_leaf(node.left) + count_leaf(node.right)\n",
        "\n",
        "def reset_options(node):  # TreeNode의 height, bal_factor를 재조정한다\n",
        "  if node is None:\n",
        "    return None\n",
        "  else:\n",
        "    node.height = calc_height(node) - 1\n",
        "    node.bal_factor = calc_height_diff(node)\n",
        "    reset_options(node.left)\n",
        "    reset_options(node.right)\n",
        "\n",
        "def printInorder(root): # 중위순회로 노드의 value, height, BF 값 출력\n",
        "  if root is None:\n",
        "    return None\n",
        "  else:\n",
        "    printInorder(root.left)\n",
        "    print(\"[value: {}, height: {}, BF: {}]\".format(root.val, root.height, root.bal_factor))\n",
        "    printInorder(root.right)\n",
        "\n",
        "# AVL_Tree class\n",
        "class AVL_Tree:\n",
        "  def __init__(self): # 초기화\n",
        "    self.root = None  \n",
        "  def insert(self, val):  # 삽입연산\n",
        "    node = TreeNode(val)\n",
        "    if self.root is None: # 빈 트리일 경우\n",
        "      self.root = node\n",
        "    else:\n",
        "      self.root = insert_avl(self.root, node)\n",
        "      self.reset_options()  # 노드의 height, bal_factor값 재조정\n",
        "  def reset_options(self):  # 노드의 height, bal_factor값 재조정하는 메소드\n",
        "    reset_options(self.root)\n",
        "  def preorder(self, root): # 전위순회 <- 중위순회를 하면 트리가 AVL트리가 되었는지 구분이 안되어서 선택함\n",
        "    if root is None:\n",
        "      return None\n",
        "    else:\n",
        "      print(root.val, end=\"\")\n",
        "      self.preorder(root.left)\n",
        "      self.preorder(root.right)\n",
        "  def printInorder(self): # 중위순회로 노드의 value, height, BF 값 출력\n",
        "    printInorder(self.root)\n",
        "  def display(self, msg): # 전위순회로 노드의 value값 출력\n",
        "    print(msg, end=\"\")\n",
        "    self.preorder(self.root)\n",
        "    print()\n",
        "  def count_node(self): # 노드의 총 개수\n",
        "    return count_node(self.root)  \n",
        "  def count_leaf(self): # leaf 노드의 총 개수\n",
        "    return count_leaf(self.root)\n",
        "  def calc_height(self):  # root노드의 bal_factor값\n",
        "    return calc_height(self.root)"
      ]
    },
    {
      "cell_type": "code",
      "execution_count": null,
      "metadata": {
        "id": "bczsu-NczaHu"
      },
      "outputs": [],
      "source": [
        "다음의 코드를 이용하여 위에서 작성한 AVL_Tree 클래스를 테스트 하라. "
      ]
    },
    {
      "cell_type": "code",
      "execution_count": 11,
      "metadata": {
        "colab": {
          "base_uri": "https://localhost:8080/",
          "height": 0
        },
        "id": "6hIjPMb2zh9b",
        "outputId": "1030d022-212e-49c3-c94e-20cd7390a937"
      },
      "outputs": [
        {
          "name": "stdout",
          "output_type": "stream",
          "text": [
            "AVL(7): 7\n",
            "AVL(8): 78\n",
            "AVL(9): 879\n",
            "AVL(2): 8729\n",
            "AVL(1): 82179\n",
            "AVL(5): 721589\n",
            "AVL(3): 7215389\n",
            "AVL(6): 72153689\n",
            "AVL(4): 732154689\n",
            " 노드의 개수 = 9\n",
            " 단말의 개수 = 4\n",
            " 트리의 높이 = 4\n",
            "[value: 1, height: 0, BF: 0]\n",
            "[value: 2, height: 1, BF: 1]\n",
            "[value: 3, height: 2, BF: 0]\n",
            "[value: 4, height: 0, BF: 0]\n",
            "[value: 5, height: 1, BF: 0]\n",
            "[value: 6, height: 0, BF: 0]\n",
            "[value: 7, height: 3, BF: 1]\n",
            "[value: 8, height: 1, BF: -1]\n",
            "[value: 9, height: 0, BF: 0]\n"
          ]
        }
      ],
      "source": [
        "tree = AVL_Tree()\n",
        "node = [7,8,9,2,1,5,3,6,4]\n",
        "\n",
        "for i in node :\n",
        "    tree.insert(i)\n",
        "    tree.display(\"AVL(%d): \"%i)\n",
        "\n",
        "print(\" 노드의 개수 = %d\" % tree.count_node()) \n",
        "print(\" 단말의 개수 = %d\" % tree.count_leaf())\n",
        "print(\" 트리의 높이 = %d\" % tree.calc_height())\n",
        "\n",
        "tree.printInorder()\n"
      ]
    }
  ],
  "metadata": {
    "colab": {
      "provenance": []
    },
    "kernelspec": {
      "display_name": "Python 3",
      "name": "python3"
    },
    "language_info": {
      "name": "python"
    }
  },
  "nbformat": 4,
  "nbformat_minor": 0
}
