{
  "cells": [
    {
      "cell_type": "markdown",
      "metadata": {
        "id": "Gag1en13KazR"
      },
      "source": [
        "## 6.2 \n",
        "\n",
        "아래에 코드셀을 만들고, 클래스 myLinkedList 를  문제 지시에 맞게 구현 하오. "
      ]
    },
    {
      "cell_type": "code",
      "execution_count": 1,
      "metadata": {
        "id": "cJ8u2EMmnS1X"
      },
      "outputs": [],
      "source": [
        "class Node:\n",
        "  def __init__(self, elem, link=None):\n",
        "    self.data = elem  #데이터\n",
        "    self.link = link  #다음 노드\n",
        "'''\n",
        "myLinkedList class\n",
        "\n",
        "isEmpty   : 리스트가 비어있는지 확인한다.\n",
        "clear     : 리스트를 비운다\n",
        "peek      : head가 가리키는 노드의 값을 반환한다\n",
        "size      : 리스트의 크기를 반환한다\n",
        "display   : 리스트의 요소들을 출력한다\n",
        "getNode   : 입력한 위치에 있는 노드를 반환한다. 입력한 위치 값이 -1 이면 None을 반환하고 리스트 크기보다 큰 값이면 마지막 노드를 반환한다.\n",
        "getEntry  : 입력한 위치의 노드의 데이터를 반환한다. 입력한 위치 값이 -1 이면 None을 반환하고 리스트 크기보다 큰 값이면 마지막 노드의 데이터를 반환한다.\n",
        "replace   : 입력한 위치의 노드의 데이터를 바꾼다. 입력한 위치 값이 리스트 크기보다 큰 값이면 마지막 노드의 데이터를 바꾼다.\n",
        "find      : 입력한 데이터 값의 노드를 찾아 반환한다. 없으면 None을 반환한다\n",
        "insert    : 입력한 위치에 입력한 값을 데이터로 가진 노드를 삽입한다. 입력한 위치가 리스트 크기보다 클 경우 리스트 가장 마지막에 삽입한다\n",
        "delete    : 입력한 위치의 노드를 삭제한다.\n",
        "merge     : 입력받은 리스트를 리스트 마지막 부분에 붙여서 이은다. 입력받은 리스트는 빈리스트로 만든다.\n",
        "'''\n",
        "class myLinkedList:\n",
        "  def __init__(self):\n",
        "    self.head = None\n",
        "  def isEmpty(self):\n",
        "    return self.head == None\n",
        "  def clear(self):\n",
        "    self.head = None\n",
        "  def peek(self):\n",
        "    if not self.isEmpty():\n",
        "      return self.head.data\n",
        "  def size(self):\n",
        "    node = self.head\n",
        "    count = 0\n",
        "    while not node == None: #node가 None을 가리킬 때까지 이동하면서 count를 1 증가시킨다\n",
        "      node = node.link\n",
        "      count += 1\n",
        "    return count\n",
        "  def display(self, msg='myLinkedList: '):\n",
        "    print(msg, end='')\n",
        "    node = self.head\n",
        "    while not node == None: #node가 None을 가리킬 때 까지 반복\n",
        "      print(node.data, end=' ')\n",
        "      node = node.link\n",
        "    print()\n",
        "  def getNode(self, pos):\n",
        "    if pos < 0:   #pos가 음수이 경우는 None을 반환\n",
        "      return None\n",
        "    node = self.head\n",
        "    while pos > 0 and node != None: #원하는 위치에 도달하거나 node가 끝까지 도달할 때까지 반복한다\n",
        "      node = node.link\n",
        "      pos -= 1\n",
        "    return node\n",
        "  def getEntry(self, pos):\n",
        "    node = self.getNode(pos)\n",
        "    #노드가 None일 때는 None을 반환하고 노드가 None이 아닐 때는 노드 데이터를 반환한다\n",
        "    if node == None:\n",
        "      return None\n",
        "    else:\n",
        "      return node.data\n",
        "  def replace(self, pos, elem):\n",
        "    node = self.getNode(pos)\n",
        "    if node != None:  #노드가 None이 아닐 경우에만 변경한다\n",
        "      node.data = elem\n",
        "  def find(self, data):\n",
        "    node = self.head\n",
        "    while node is not None: #마지막 노드까지 검사\n",
        "      if node.data == data: #원하는 데이터가 나왔으면 노드 데이터를 반환한다\n",
        "        return node\n",
        "      node = node.link\n",
        "    return None   #원하는 노드가 나오지 않으면 None을 반환\n",
        "  def insert(self, pos, elem):\n",
        "    before = self.getNode(pos-1)\n",
        "    if before == None:  # 0 위치에 삽입하는 경우, 리스트가 빈 경우\n",
        "      self.head = Node(elem, self.head)\n",
        "    else: # 0이 아닌 위치에 삽입하는 경우\n",
        "      node = Node(elem, before.link)\n",
        "      before.link = node\n",
        "  def delete(self, pos):\n",
        "    before = self.getNode(pos-1)\n",
        "    if before == None:  # 0위치의 노드를 지우는 경우, 리스트가 빈 경우도 여기 if문을 지나간다\n",
        "      if self.head is not None: # 리스트가 빈 리스트가 아닌 경우\n",
        "        self.head = self.head.link\n",
        "    elif before.link != None: # 0 위치가 아닌 노드를 지우는 경우\n",
        "      before.link = before.link.link\n",
        "  def merge(self, linkedList):\n",
        "    if self.head == None: # 리스트가 빈 경우 head를 linkedList head와 같으면 된다\n",
        "      self.head = linkedList.head\n",
        "      linkedList.head = None\n",
        "    else: # 마지막 노드의 link가 linkedList head와 같으면 된다\n",
        "      pos = self.size() - 1\n",
        "      node = self.getNode(pos)\n",
        "      node.link = linkedList.head\n",
        "      linkedList.clear()\n",
        "\n"
      ]
    },
    {
      "cell_type": "markdown",
      "metadata": {
        "id": "MPF9N1VNKyYb"
      },
      "source": [
        "아래 테스트 코드를 이용하여, 구현된 merge() 연산을 테스트 하시오. "
      ]
    },
    {
      "cell_type": "code",
      "execution_count": 2,
      "metadata": {
        "colab": {
          "base_uri": "https://localhost:8080/"
        },
        "id": "4uu6NNeRjXeU",
        "outputId": "969a8657-52a7-43a2-c298-54b645f22ffa"
      },
      "outputs": [
        {
          "name": "stdout",
          "output_type": "stream",
          "text": [
            "myLinkedList: 10 30 50 70 90 20 40 60 80 100 \n",
            "s size:  10\n",
            "t size:  0\n"
          ]
        }
      ],
      "source": [
        "# test code: DO NOT MODIFY\n",
        "\n",
        "s = myLinkedList()\n",
        "s.insert(0,10)\n",
        "s.insert(1,30)\n",
        "s.insert(2,50)\n",
        "s.insert(3,70)\n",
        "s.insert(4,90)\n",
        "\n",
        "t = myLinkedList()\n",
        "t.insert(0,20)\n",
        "t.insert(1,40)\n",
        "t.insert(2,60)\n",
        "t.insert(3,80)\n",
        "t.insert(4,100)\n",
        "\n",
        "s.merge(t)\n",
        "s.display()\n",
        "\n",
        "# should be 10\n",
        "print(\"s size: \", s.size()) \n",
        "\n",
        "# should be 0 -> check prob. description\n",
        "print(\"t size: \", t.size()) "
      ]
    },
    {
      "cell_type": "markdown",
      "metadata": {
        "id": "KVDXivqYWgD6"
      },
      "source": [
        "#6.3 \n"
      ]
    },
    {
      "cell_type": "markdown",
      "metadata": {
        "id": "l_jlkOyfYCeT"
      },
      "source": [
        "\n",
        "아래에 코드셀을 만들고, 셀에 6.3 에서 요구된 사항을 반영하여 myLinkedListQueue 클래스를 구현하시오. 구현하여야 하는 메소드는 교재 209 페이지에 구현된 CircularLinkedQueue 를 참조하여 동일 메소드를 문제에 맞게 변형하여 구현한다. \n",
        "\n"
      ]
    },
    {
      "cell_type": "code",
      "execution_count": 3,
      "metadata": {
        "id": "msC92WXRxPdq"
      },
      "outputs": [],
      "source": [
        "'''\n",
        "myLinkedListQueue class\n",
        "\n",
        "isEmpty : 리스트가 비어있는지 확인한다.\n",
        "clear   : 리스트를 비운다\n",
        "enqueue : rear위치에 노드를 추가한다.\n",
        "dequeue : front위치의 노드의 값을 반환후 그 노드는 삭제한다\n",
        "peek    : front위치의 노드 데이터를 반환한다.\n",
        "size    : 리스트의 크기를 반환한다.\n",
        "display : 리스트 요소들을 출력한다.\n",
        "'''\n",
        "class myLinkedListQueue:\n",
        "  def __init__(self):\n",
        "    self.tail = None  #마지막 노드\n",
        "  def isEmpty(self):\n",
        "    return self.tail == None\n",
        "  def clear(self):\n",
        "    self.tail = None\n",
        "  def enqueue(self, item):\n",
        "    node = Node(item)\n",
        "    if self.isEmpty():  #리스트가 비어있는 경우\n",
        "      node.link = node\n",
        "      self.tail = node\n",
        "    else:               #리스트가 비어있지 않은 경우\n",
        "      node.link = self.tail.link\n",
        "      self.tail.link = node\n",
        "      self.tail = node\n",
        "  def dequeue(self):\n",
        "    if not self.isEmpty():  #리스트가 비어있지 않은 경우만 dequeue를 진행\n",
        "      data = self.tail.link.data\n",
        "      if self.tail.link == self.tail: #리스트의 크기가 1인 경우\n",
        "        self.tail = None\n",
        "      else: #리스트의 크기가 1보다 큰 경우\n",
        "        self.tail.link = self.tail.link.link\n",
        "      return data #위의 두 경우 모두 front값을 한 번 반환하기 때문에 tail위치를 바꿔준 후 값을 반환한다\n",
        "  def peek(self):\n",
        "    if not self.isEmpty():  #리스트가 비어있지 않은 경우에만 반환\n",
        "      return self.tail.link.data\n",
        "  def size(self):\n",
        "    if self.isEmpty():\n",
        "      return 0\n",
        "    else: #리스트가 비어있지 않으면 리스트의 크기가 최소 1이라는 것이기 때문에 count를 1로 설정한다\n",
        "      count = 1\n",
        "      node = self.tail.link\n",
        "      while not node == self.tail:  #node가 tail을 만날 때까지 반복한다\n",
        "        node = node.link\n",
        "        count += 1\n",
        "      return count\n",
        "  def display(self, msg='myLinkedListQueue: '):\n",
        "    print(msg, end='')\n",
        "    if not self.isEmpty():\n",
        "      node = self.tail.link\n",
        "      while not node == self.tail:\n",
        "        print(node.data, end=' ')\n",
        "        node = node.link\n",
        "      print(node.data, end='')"
      ]
    },
    {
      "cell_type": "markdown",
      "metadata": {
        "id": "VZE7QAUdYY2k"
      },
      "source": [
        "아래 코드셀에 주어진 코드를 수정하지 않은 상태에서, myLinkedListQueue 클래스를 테스트하시오. "
      ]
    },
    {
      "cell_type": "code",
      "execution_count": 4,
      "metadata": {
        "colab": {
          "base_uri": "https://localhost:8080/"
        },
        "id": "T3NJ1CP-Z1IO",
        "outputId": "c490b9da-61b6-40f8-dca1-0e2e3ecc4177"
      },
      "outputs": [
        {
          "name": "stdout",
          "output_type": "stream",
          "text": [
            "queue size:  5\n",
            "myLinkedListQueue: 50 60 70 80 90"
          ]
        }
      ],
      "source": [
        "# test code: DO NOT MODIFY\n",
        "s = myLinkedListQueue()\n",
        "s.enqueue(10); s.enqueue(20); s.enqueue(30); s.enqueue(50)\n",
        "s.enqueue(60); s.enqueue(70); s.enqueue(80); s.enqueue(90)\n",
        "\n",
        "s.dequeue(); s.dequeue(); s.dequeue()\n",
        "\n",
        "print(\"queue size: \", s.size())\n",
        "s.display()\n"
      ]
    },
    {
      "cell_type": "markdown",
      "metadata": {
        "id": "yiB2DksAi5y1"
      },
      "source": [
        "##6.4\n"
      ]
    },
    {
      "cell_type": "markdown",
      "metadata": {
        "id": "cMqLFnjfi7ub"
      },
      "source": [
        "아래에 코드셀을 만들고, 셀에 6.4 에서 요구된 사항을 반영하여 myDoubleLinkedListQueue 클래스를 구현하시오."
      ]
    },
    {
      "cell_type": "code",
      "execution_count": 5,
      "metadata": {
        "id": "rbWEaPBv9VTg"
      },
      "outputs": [],
      "source": [
        "class DNode:\n",
        "  def __init__(self, elem, prev = None, next = None):\n",
        "    self.data = elem  #데이터\n",
        "    self.prev = prev  #이전 노드\n",
        "    self.next = next  #다음 노드\n",
        "\n",
        "'''\n",
        "myDoubleLinkedListQueue class\n",
        "\n",
        "isEmpty : 리스트가 비어있는지 확인한다.\n",
        "clear   : 리스트를 비운다\n",
        "enqueue : rear위치에 노드를 추가한다.\n",
        "dequeue : front위치의 노드의 값을 반환후 그 노드는 삭제한다\n",
        "peek    : front위치의 노드 데이터를 반환한다.\n",
        "size    : 리스트의 크기를 반환한다.\n",
        "display : 리스트 요소들을 출력한다.\n",
        "'''\n",
        "class myDoubleLinkedListQueue:\n",
        "  def __init__(self):\n",
        "    self.front = None\n",
        "    self.rear = None\n",
        "  def isEmpty(self):\n",
        "    return self.front == None\n",
        "  def clear(self):\n",
        "    self.front = self.rear = None\n",
        "  def enqueue(self, item):\n",
        "    node = DNode(item)\n",
        "    if self.isEmpty():    #리스트가 비어있는 경우\n",
        "      self.front = self.rear = node\n",
        "    else:                 #리스트가 비어있지 않은 경우\n",
        "      node.prev = self.rear\n",
        "      node.next = None\n",
        "      self.rear.next = node\n",
        "      self.rear = node\n",
        "  def dequeue(self):\n",
        "    if not self.isEmpty():  #리스트가 비어있지 않은 경우\n",
        "      data = self.front.data\n",
        "      if self.front == self.rear: #front와 rear이 같은 노드를 가리키는 경우, 즉 리스트 크기가 1인 경우\n",
        "        self.front = self.rear = None\n",
        "      else: #front와 rear이 다른 노드를 가리키는 경우\n",
        "        self.front.next.prev = None\n",
        "        self.front = self.front.next\n",
        "      return data\n",
        "  def peek(self):\n",
        "    if not self.isEmpty():  # 리스트가 비어있지 않은 경우\n",
        "      return self.front.data\n",
        "  def size(self):\n",
        "    if self.isEmpty():  #리스트가 빈 경우\n",
        "      return 0\n",
        "    count = 1           #위에서 리스트가 비어있지 않은 것을 확인했기 때문에 리스트 크기는 1보다 크거나 같다\n",
        "    node = self.front\n",
        "    while(node != self.rear): #node가 rear에 도달할 때까지 반복\n",
        "      node = node.next\n",
        "      count += 1\n",
        "    return count\n",
        "  def display(self, msg='myDoubleLinkedListQueue: '):\n",
        "    print(msg, end='')\n",
        "    if not self.isEmpty():  #리스트가 비어있지 않은 경우에 출력\n",
        "      node = self.front\n",
        "      while node != self.rear:  #노드가 rear에 도달할 때까지 반복\n",
        "        print(node.data, end=' ')\n",
        "        node = node.next\n",
        "      print(node.data, end='')"
      ]
    },
    {
      "cell_type": "markdown",
      "metadata": {
        "id": "CppsIX0yjG-P"
      },
      "source": [
        "아래 코드셀에 주어진 코드를 수정하지 않은 상태에서, myDoubleLinkedListQueue 클래스를 테스트하시오."
      ]
    },
    {
      "cell_type": "code",
      "execution_count": 6,
      "metadata": {
        "colab": {
          "base_uri": "https://localhost:8080/"
        },
        "id": "TtN9_KX9jL3J",
        "outputId": "9fd21cb1-e8b1-4132-a854-54f28a90572c"
      },
      "outputs": [
        {
          "name": "stdout",
          "output_type": "stream",
          "text": [
            "queue size:  5\n",
            "myDoubleLinkedListQueue: 50 60 70 80 90"
          ]
        }
      ],
      "source": [
        "# test code: DO NOT MODIFY\n",
        "d = myDoubleLinkedListQueue()\n",
        "d.enqueue(10); d.enqueue(20); d.enqueue(30); d.enqueue(50)\n",
        "d.enqueue(60); d.enqueue(70); d.enqueue(80); d.enqueue(90)\n",
        "\n",
        "d.dequeue(); d.dequeue(); d.dequeue()\n",
        "\n",
        "print(\"queue size: \", d.size())\n",
        "d.display()"
      ]
    }
  ],
  "metadata": {
    "colab": {
      "collapsed_sections": [],
      "provenance": []
    },
    "kernelspec": {
      "display_name": "Python 3",
      "name": "python3"
    },
    "language_info": {
      "name": "python"
    }
  },
  "nbformat": 4,
  "nbformat_minor": 0
}
