{
  "cells": [
    {
      "cell_type": "markdown",
      "metadata": {
        "id": "Gag1en13KazR"
      },
      "source": [
        "# 8.5 "
      ]
    },
    {
      "cell_type": "markdown",
      "metadata": {
        "id": "46ED_gOUuIyE"
      },
      "source": [
        "아래 코드셀에 함수 path_length 구현하라. "
      ]
    },
    {
      "cell_type": "code",
      "execution_count": 28,
      "metadata": {
        "id": "WRVEQRrps3aO"
      },
      "outputs": [],
      "source": [
        "'''\n",
        "TNode: 이진트리 노드\n",
        "path_length: 트리에 루트에서 노드들까지의 길이의 합을 반환한다\n",
        "\n",
        "path_length\n",
        "heigth 디폴트 값은 0이다\n",
        "자식 노드들의 heigth값과 자신의 heigth값을 더한 값을 바환한다\n",
        "\n",
        "'''\n",
        "class TNode:\n",
        "  def __init__(self, data, left, right):\n",
        "    self.data = data\n",
        "    self.left = left\n",
        "    self.right = right\n",
        "\n",
        "def path_length(root, heigth = 0):\n",
        "  if root is None: #단말 노드까지 내려온 경우\n",
        "    return 0\n",
        "  else: #왼쪽 자식 노드 높이+ 오른쪽 자식 노드 높이 + root 높이\n",
        "    return path_length(root.left, heigth + 1) + path_length(root.right, heigth + 1) + heigth\n"
      ]
    },
    {
      "cell_type": "markdown",
      "metadata": {
        "id": "jOYIHQslsd0A"
      },
      "source": [
        "아래의 코드를 이용하여 테스트를 수행하시오. "
      ]
    },
    {
      "cell_type": "code",
      "execution_count": 29,
      "metadata": {
        "colab": {
          "base_uri": "https://localhost:8080/"
        },
        "id": "HFyp2IcEsi4c",
        "outputId": "2aa29347-d7ea-4738-8b19-cadf7e856bac"
      },
      "outputs": [
        {
          "name": "stdout",
          "output_type": "stream",
          "text": [
            "path length:  8\n"
          ]
        }
      ],
      "source": [
        "c = TNode('C', None, None)\n",
        "d = TNode('D', None, None)\n",
        "b = TNode('B', c, d)\n",
        "f = TNode('F', None, None)\n",
        "e = TNode('E', None, f)\n",
        "root = TNode('A', b, e)\n",
        "\n",
        "print(\"path length: \", path_length(root)) # should be 8"
      ]
    },
    {
      "cell_type": "markdown",
      "metadata": {
        "id": "w9rXA9hpu8KL"
      },
      "source": [
        "##8.6"
      ]
    },
    {
      "cell_type": "markdown",
      "metadata": {
        "id": "c7TV7nI3vG4n"
      },
      "source": [
        "아래 코드셀에 함수 reverse 를 구현하라. 결과는 inorder traversal 결과이다. 결과 출력에는 교재 283 페이지의 inorder 함수를 이용.  "
      ]
    },
    {
      "cell_type": "code",
      "execution_count": 32,
      "metadata": {
        "id": "e9ulPubOtB9N"
      },
      "outputs": [],
      "source": [
        "'''\n",
        "reverse(root)\n",
        "root의 좌우 노드를 바꾼다.\n",
        "그 후에 각각 좌우 노드의 자식 노드도 좌우 위치를 바꾼다. 그 후에 root를 반환한다\n",
        "\n",
        "inorder(node)\n",
        "중위순회한 값을 출력한다\n",
        "'''\n",
        "def reverse(root):\n",
        "  if root == None:\n",
        "    return None\n",
        "  else:\n",
        "    root.left, root.right = root.right, root.left #좌우 자식노드 위치 바꾸기\n",
        "    root.left = reverse(root.left)  #왼쪽 자식노드\n",
        "    root.right = reverse(root.right)  #오른쪽 자식노드\n",
        "    return root\n",
        "\n",
        "def inorder(node):\n",
        "  if node is not None:\n",
        "    inorder(node.left)  #왼쪽 자식노드\n",
        "    print(node.data, end=' ') #부모노드\n",
        "    inorder(node.right) #오른쪽 자식노드"
      ]
    },
    {
      "cell_type": "markdown",
      "metadata": {
        "id": "_PRMFZEKvdz7"
      },
      "source": [
        "아래의 코드를 이용하여 테스트를 수행하시오."
      ]
    },
    {
      "cell_type": "code",
      "execution_count": 31,
      "metadata": {
        "colab": {
          "base_uri": "https://localhost:8080/"
        },
        "id": "znE830aqwHcn",
        "outputId": "2f8bfb9b-03e2-4194-c5db-52f9ffe513a9"
      },
      "outputs": [
        {
          "name": "stdout",
          "output_type": "stream",
          "text": [
            "F E A D B C "
          ]
        }
      ],
      "source": [
        "reversed_tree = reverse(root)\n",
        "inorder(reversed_tree) # F-E-A-D-B-C "
      ]
    }
  ],
  "metadata": {
    "colab": {
      "collapsed_sections": [],
      "provenance": []
    },
    "kernelspec": {
      "display_name": "Python 3",
      "name": "python3"
    },
    "language_info": {
      "name": "python"
    }
  },
  "nbformat": 4,
  "nbformat_minor": 0
}
